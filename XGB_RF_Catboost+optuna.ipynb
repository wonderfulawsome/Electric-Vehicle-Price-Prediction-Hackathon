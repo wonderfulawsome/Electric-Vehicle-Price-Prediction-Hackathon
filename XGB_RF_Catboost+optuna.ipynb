{
  "nbformat": 4,
  "nbformat_minor": 0,
  "metadata": {
    "colab": {
      "provenance": [],
      "machine_shape": "hm"
    },
    "kernelspec": {
      "name": "python3",
      "display_name": "Python 3"
    },
    "language_info": {
      "name": "python"
    }
  },
  "cells": [
    {
      "cell_type": "code",
      "execution_count": 64,
      "metadata": {
        "id": "gJ_hqH1op1vk",
        "colab": {
          "base_uri": "https://localhost:8080/"
        },
        "outputId": "0c087b84-46b6-4a36-fe0b-5f4c76e22389"
      },
      "outputs": [
        {
          "output_type": "stream",
          "name": "stdout",
          "text": [
            "Drive already mounted at /content/drive; to attempt to forcibly remount, call drive.mount(\"/content/drive\", force_remount=True).\n"
          ]
        }
      ],
      "source": [
        "from google.colab import drive\n",
        "drive.mount('/content/drive')"
      ]
    },
    {
      "cell_type": "code",
      "source": [
        "import pandas as pd\n",
        "\n",
        "file_path = '/content/drive/MyDrive/Colab Notebooks/데이터/train_processed.csv'\n",
        "train_df = pd.read_csv(file_path)"
      ],
      "metadata": {
        "id": "S9NKNmkqqDFo"
      },
      "execution_count": 65,
      "outputs": []
    },
    {
      "cell_type": "code",
      "source": [
        "submit_test_df = pd.read_csv('/content/drive/MyDrive/Colab Notebooks/데이터/test_processed.csv')"
      ],
      "metadata": {
        "id": "Si1_Mvnklruy"
      },
      "execution_count": 66,
      "outputs": []
    },
    {
      "cell_type": "code",
      "source": [
        "!pip install optuna"
      ],
      "metadata": {
        "colab": {
          "base_uri": "https://localhost:8080/"
        },
        "id": "AW4MxDr2qQVE",
        "outputId": "b8282176-4e9d-4249-84b3-9f0a42164236"
      },
      "execution_count": 42,
      "outputs": [
        {
          "output_type": "stream",
          "name": "stdout",
          "text": [
            "Requirement already satisfied: optuna in /usr/local/lib/python3.10/dist-packages (4.1.0)\n",
            "Requirement already satisfied: alembic>=1.5.0 in /usr/local/lib/python3.10/dist-packages (from optuna) (1.14.0)\n",
            "Requirement already satisfied: colorlog in /usr/local/lib/python3.10/dist-packages (from optuna) (6.9.0)\n",
            "Requirement already satisfied: numpy in /usr/local/lib/python3.10/dist-packages (from optuna) (1.26.4)\n",
            "Requirement already satisfied: packaging>=20.0 in /usr/local/lib/python3.10/dist-packages (from optuna) (24.2)\n",
            "Requirement already satisfied: sqlalchemy>=1.4.2 in /usr/local/lib/python3.10/dist-packages (from optuna) (2.0.36)\n",
            "Requirement already satisfied: tqdm in /usr/local/lib/python3.10/dist-packages (from optuna) (4.67.1)\n",
            "Requirement already satisfied: PyYAML in /usr/local/lib/python3.10/dist-packages (from optuna) (6.0.2)\n",
            "Requirement already satisfied: Mako in /usr/local/lib/python3.10/dist-packages (from alembic>=1.5.0->optuna) (1.3.8)\n",
            "Requirement already satisfied: typing-extensions>=4 in /usr/local/lib/python3.10/dist-packages (from alembic>=1.5.0->optuna) (4.12.2)\n",
            "Requirement already satisfied: greenlet!=0.4.17 in /usr/local/lib/python3.10/dist-packages (from sqlalchemy>=1.4.2->optuna) (3.1.1)\n",
            "Requirement already satisfied: MarkupSafe>=0.9.2 in /usr/local/lib/python3.10/dist-packages (from Mako->alembic>=1.5.0->optuna) (3.0.2)\n"
          ]
        }
      ]
    },
    {
      "cell_type": "code",
      "source": [
        "!pip install catboost"
      ],
      "metadata": {
        "colab": {
          "base_uri": "https://localhost:8080/"
        },
        "id": "o3lIwj639mYH",
        "outputId": "826e06fd-5965-4d92-b2be-6d7c6f781c7c"
      },
      "execution_count": 43,
      "outputs": [
        {
          "output_type": "stream",
          "name": "stdout",
          "text": [
            "Requirement already satisfied: catboost in /usr/local/lib/python3.10/dist-packages (1.2.7)\n",
            "Requirement already satisfied: graphviz in /usr/local/lib/python3.10/dist-packages (from catboost) (0.20.3)\n",
            "Requirement already satisfied: matplotlib in /usr/local/lib/python3.10/dist-packages (from catboost) (3.10.0)\n",
            "Requirement already satisfied: numpy<2.0,>=1.16.0 in /usr/local/lib/python3.10/dist-packages (from catboost) (1.26.4)\n",
            "Requirement already satisfied: pandas>=0.24 in /usr/local/lib/python3.10/dist-packages (from catboost) (2.2.2)\n",
            "Requirement already satisfied: scipy in /usr/local/lib/python3.10/dist-packages (from catboost) (1.13.1)\n",
            "Requirement already satisfied: plotly in /usr/local/lib/python3.10/dist-packages (from catboost) (5.24.1)\n",
            "Requirement already satisfied: six in /usr/local/lib/python3.10/dist-packages (from catboost) (1.17.0)\n",
            "Requirement already satisfied: python-dateutil>=2.8.2 in /usr/local/lib/python3.10/dist-packages (from pandas>=0.24->catboost) (2.8.2)\n",
            "Requirement already satisfied: pytz>=2020.1 in /usr/local/lib/python3.10/dist-packages (from pandas>=0.24->catboost) (2024.2)\n",
            "Requirement already satisfied: tzdata>=2022.7 in /usr/local/lib/python3.10/dist-packages (from pandas>=0.24->catboost) (2024.2)\n",
            "Requirement already satisfied: contourpy>=1.0.1 in /usr/local/lib/python3.10/dist-packages (from matplotlib->catboost) (1.3.1)\n",
            "Requirement already satisfied: cycler>=0.10 in /usr/local/lib/python3.10/dist-packages (from matplotlib->catboost) (0.12.1)\n",
            "Requirement already satisfied: fonttools>=4.22.0 in /usr/local/lib/python3.10/dist-packages (from matplotlib->catboost) (4.55.3)\n",
            "Requirement already satisfied: kiwisolver>=1.3.1 in /usr/local/lib/python3.10/dist-packages (from matplotlib->catboost) (1.4.8)\n",
            "Requirement already satisfied: packaging>=20.0 in /usr/local/lib/python3.10/dist-packages (from matplotlib->catboost) (24.2)\n",
            "Requirement already satisfied: pillow>=8 in /usr/local/lib/python3.10/dist-packages (from matplotlib->catboost) (11.1.0)\n",
            "Requirement already satisfied: pyparsing>=2.3.1 in /usr/local/lib/python3.10/dist-packages (from matplotlib->catboost) (3.2.1)\n",
            "Requirement already satisfied: tenacity>=6.2.0 in /usr/local/lib/python3.10/dist-packages (from plotly->catboost) (9.0.0)\n"
          ]
        }
      ]
    },
    {
      "cell_type": "code",
      "source": [
        "import pandas as pd\n",
        "import numpy as np\n",
        "\n",
        "\n",
        "import warnings\n",
        "import matplotlib.pyplot as plt\n",
        "import matplotlib\n",
        "\n",
        "# 모든 matplotlib 경고 무시\n",
        "warnings.filterwarnings('ignore')\n",
        "matplotlib.rcParams['axes.unicode_minus'] = False\n",
        "\n",
        "from sklearn.model_selection import train_test_split\n",
        "from sklearn.metrics import mean_squared_error\n",
        "import xgboost as xgb\n",
        "\n",
        "\n",
        "import sqlite3\n",
        "import optuna\n",
        "from optuna import Trial\n",
        "from optuna.samplers import TPESampler\n",
        "\n",
        "\n",
        "import warnings\n",
        "warnings.filterwarnings('ignore')"
      ],
      "metadata": {
        "id": "qniA1AR_qRwK"
      },
      "execution_count": 44,
      "outputs": []
    },
    {
      "cell_type": "code",
      "source": [
        "import os\n",
        "\n",
        "study_name = \"dacon_temp_xgb_label_v1\"\n",
        "storage_name = f\"sqlite:///optuna/{study_name}.db\"\n",
        "\n",
        "# 데이터베이스 파일 저장 경로 설정\n",
        "db_dir = \"/content/optuna\"  # Colab 작업 디렉토리 내 optuna 폴더\n",
        "os.makedirs(db_dir, exist_ok=True)  # 폴더가 없으면 생성\n",
        "storage_name = f\"sqlite:///{db_dir}/{study_name}.db\"  # 절대 경로 사용"
      ],
      "metadata": {
        "id": "lYh2RHb-rUpr"
      },
      "execution_count": 45,
      "outputs": []
    },
    {
      "cell_type": "code",
      "source": [
        "target_df = train_df['가격(백만원)']\n",
        "train_df = train_df.drop(columns=['가격(백만원)'])\n",
        "\n",
        "train_df, test_df, target_df, test_target_df = train_test_split(train_df,target_df, test_size=0.2, random_state=42)"
      ],
      "metadata": {
        "id": "tzdnaY65rZBj"
      },
      "execution_count": 46,
      "outputs": []
    },
    {
      "cell_type": "code",
      "source": [
        "import optuna\n",
        "from optuna.samplers import TPESampler\n",
        "import numpy as np\n",
        "import pandas as pd\n",
        "from sklearn.metrics import mean_squared_error, r2_score\n",
        "import xgboost as xgb\n",
        "from sklearn.ensemble import RandomForestRegressor\n",
        "from catboost import CatBoostRegressor\n",
        "import matplotlib.pyplot as plt\n",
        "import seaborn as sns\n",
        "\n",
        "# 각 모델의 objective 함수 정의\n",
        "def objectiveLR_xgb(trial: Trial, train_df, target_df, test_df, test_target_df):\n",
        "  params = {\n",
        "    'n_estimators': trial.suggest_int('n_estimators', 50, 1000),\n",
        "        'max_depth': trial.suggest_int('max_depth', 3, 30),\n",
        "        'learning_rate': trial.suggest_float('learning_rate', 0.001, 0.1, log=True),\n",
        "        'min_child_weight': trial.suggest_int('min_child_weight', 1, 7),\n",
        "        'subsample': trial.suggest_float('subsample', 0.6, 1.0),\n",
        "        'colsample_bytree': trial.suggest_float('colsample_bytree', 0.6, 1.0),\n",
        "        'gamma': trial.suggest_float('gamma', 1e-8, 1.0, log=True)\n",
        "  }\n",
        "  model = xgb.XGBRegressor(objective = 'reg:squarederror', **params)\n",
        "  model.fit(train_df, target_df)\n",
        "  predictions = model.predict(test_df)\n",
        "  rmse = np.sqrt(mean_squared_error(test_target_df, predictions))\n",
        "  return rmse\n",
        "\n",
        "def objectiveLR_rf(trial: Trial, train_df, target_df, test_df, test_target_df):\n",
        "\n",
        "  params = {\n",
        "        'n_estimators': trial.suggest_int('n_estimators', 50, 1000),\n",
        "        'max_depth': trial.suggest_int('max_depth', 3, 30),\n",
        "        'min_samples_split': trial.suggest_int('min_samples_split', 2, 20),\n",
        "        'min_samples_leaf': trial.suggest_int('min_samples_leaf', 1, 10),\n",
        "        'max_features': trial.suggest_float('max_features', 0.1, 1.0)\n",
        "    }\n",
        "  model = RandomForestRegressor(**params, random_state=42, n_jobs=-1)\n",
        "  model.fit(train_df, target_df)\n",
        "  predictions = model.predict(test_df)\n",
        "  rmse = np.sqrt(mean_squared_error(test_target_df, predictions))\n",
        "  return rmse\n",
        "\n",
        "def objectiveLR_catboost(trial: Trial, train_df, target_df, test_df, test_target_df):\n",
        "    params = {\n",
        "        'iterations': trial.suggest_int('iterations', 100, 1000),\n",
        "        'learning_rate': trial.suggest_float('learning_rate', 0.001, 0.1, log=True),\n",
        "        'depth': trial.suggest_int('depth', 4, 15),\n",
        "        'l2_leaf_reg': trial.suggest_float('l2_leaf_reg', 1e-8, 10.0, log=True),\n",
        "        'border_count': trial.suggest_int('border_count', 32, 255),\n",
        "        'bagging_temperature': trial.suggest_float('bagging_temperature', 0.0, 1.0)\n",
        "    }\n",
        "    model = CatBoostRegressor(**params, verbose=False, random_state=42)\n",
        "    model.fit(train_df, target_df)\n",
        "    predictions = model.predict(test_df)\n",
        "    rmse = np.sqrt(mean_squared_error(test_target_df, predictions))\n",
        "    return rmse"
      ],
      "metadata": {
        "id": "_g-vZMAfrc9X"
      },
      "execution_count": 47,
      "outputs": []
    },
    {
      "cell_type": "markdown",
      "source": [
        "# 각 모델 최적화"
      ],
      "metadata": {
        "id": "Zyz4fYi6HOlf"
      }
    },
    {
      "cell_type": "code",
      "source": [
        "# 각 모델 최적화\n",
        "def optimize_model(model_name, objective_func, train_df, target_df, test_df, test_target_df):\n",
        "    study_name = f\"dacon_temp_{model_name}_v1\"\n",
        "    storage_name = f\"sqlite:///optuna/{study_name}.db\"\n",
        "\n",
        "    try:\n",
        "        study = optuna.create_study(\n",
        "            storage=storage_name,\n",
        "            study_name=study_name,\n",
        "            direction='minimize',\n",
        "            sampler=TPESampler(multivariate=True, n_startup_trials=50, seed=42)\n",
        "        )\n",
        "        print(f\"{model_name}: create new study\")\n",
        "    except:\n",
        "        study = optuna.load_study(study_name=study_name, storage=storage_name)\n",
        "        print(f\"{model_name}: load existing study\")\n",
        "\n",
        "    study.optimize(\n",
        "        lambda trial: objective_func(trial, train_df, target_df, test_df, test_target_df),\n",
        "        n_trials=50\n",
        "    )\n",
        "    return study"
      ],
      "metadata": {
        "id": "XOxOVWknG4hP"
      },
      "execution_count": 48,
      "outputs": []
    },
    {
      "cell_type": "markdown",
      "source": [
        "# 최적화된 모델로 예측"
      ],
      "metadata": {
        "id": "mUXFgcoQWNOL"
      }
    },
    {
      "cell_type": "code",
      "source": [
        "def get_optimized_predictions(model_name, study, train_df, target_df, test_df):\n",
        "    if model_name == 'xgb':\n",
        "        model = xgb.XGBRegressor(objective='reg:squarederror', **study.best_params)\n",
        "    elif model_name == 'rf':\n",
        "        model = RandomForestRegressor(**study.best_params, random_state=42, n_jobs=-1)\n",
        "    else:  # catboost\n",
        "        model = CatBoostRegressor(**study.best_params, verbose=False, random_state=42)\n",
        "\n",
        "    model.fit(train_df, target_df)\n",
        "    return model.predict(test_df)"
      ],
      "metadata": {
        "id": "i-AAf3dAWMnF"
      },
      "execution_count": 49,
      "outputs": []
    },
    {
      "cell_type": "markdown",
      "source": [
        "# 모델 최적화"
      ],
      "metadata": {
        "id": "32UOWE1bZ8HB"
      }
    },
    {
      "cell_type": "code",
      "source": [
        "print(\"=== 모델 최적화 시작 ===\")\n",
        "\n",
        "study_xgb = optimize_model('xgb', objectiveLR_xgb, train_df, target_df, test_df, test_target_df)\n",
        "study_rf = optimize_model('rf', objectiveLR_rf, train_df, target_df, test_df, test_target_df)\n",
        "study_catboost = optimize_model('catboost', objectiveLR_catboost, train_df, target_df, test_df, test_target_df)\n",
        "\n",
        "# 각 모델의 예측\n",
        "pred_xgb = get_optimized_predictions('xgb', study_xgb, train_df, target_df, test_df)\n",
        "pred_rf = get_optimized_predictions('rf', study_rf, train_df, target_df, test_df)\n",
        "pred_catboost = get_optimized_predictions('catboost', study_catboost, train_df, target_df, test_df)"
      ],
      "metadata": {
        "colab": {
          "base_uri": "https://localhost:8080/"
        },
        "id": "Povtv0POZ7jJ",
        "outputId": "6aa27034-9286-4b26-a9fa-bcb78ef8c3e4"
      },
      "execution_count": 50,
      "outputs": [
        {
          "output_type": "stream",
          "name": "stdout",
          "text": [
            "=== 모델 최적화 시작 ===\n",
            "xgb: load existing study\n"
          ]
        },
        {
          "output_type": "stream",
          "name": "stderr",
          "text": [
            "[I 2025-01-11 10:42:30,281] Trial 100 finished with value: 2.410759099688459 and parameters: {'n_estimators': 155, 'max_depth': 10, 'learning_rate': 0.019326759259313864, 'min_child_weight': 5, 'subsample': 0.6452180418611717, 'colsample_bytree': 0.8213820156337266, 'gamma': 3.322256981164363e-07}. Best is trial 79 with value: 1.4366313080141977.\n",
            "[I 2025-01-11 10:42:34,037] Trial 101 finished with value: 1.4906549707234018 and parameters: {'n_estimators': 303, 'max_depth': 10, 'learning_rate': 0.01569581683461215, 'min_child_weight': 5, 'subsample': 0.6103239074656746, 'colsample_bytree': 0.8597215694716412, 'gamma': 2.998624884190238e-08}. Best is trial 79 with value: 1.4366313080141977.\n",
            "[I 2025-01-11 10:42:34,558] Trial 102 finished with value: 1.569162386566924 and parameters: {'n_estimators': 266, 'max_depth': 5, 'learning_rate': 0.02368438814898747, 'min_child_weight': 5, 'subsample': 0.6229429871048273, 'colsample_bytree': 0.8766150686942603, 'gamma': 7.958320355712271e-08}. Best is trial 79 with value: 1.4366313080141977.\n",
            "[I 2025-01-11 10:42:35,219] Trial 103 finished with value: 1.5481193295406486 and parameters: {'n_estimators': 229, 'max_depth': 8, 'learning_rate': 0.01833049397081597, 'min_child_weight': 5, 'subsample': 0.6115988153744956, 'colsample_bytree': 0.8484253701432016, 'gamma': 8.881312282222856e-08}. Best is trial 79 with value: 1.4366313080141977.\n",
            "[I 2025-01-11 10:42:35,695] Trial 104 finished with value: 1.5631716978901722 and parameters: {'n_estimators': 113, 'max_depth': 9, 'learning_rate': 0.03659969734669356, 'min_child_weight': 5, 'subsample': 0.6410968774651359, 'colsample_bytree': 0.9240766128811166, 'gamma': 2.3797930829347938e-06}. Best is trial 79 with value: 1.4366313080141977.\n",
            "[I 2025-01-11 10:42:36,716] Trial 105 finished with value: 1.461525564262168 and parameters: {'n_estimators': 312, 'max_depth': 10, 'learning_rate': 0.021360070005311454, 'min_child_weight': 6, 'subsample': 0.6521770826973847, 'colsample_bytree': 0.8833021066123872, 'gamma': 1.4744198256328457e-08}. Best is trial 79 with value: 1.4366313080141977.\n",
            "[I 2025-01-11 10:42:37,476] Trial 106 finished with value: 1.4495345795070609 and parameters: {'n_estimators': 372, 'max_depth': 7, 'learning_rate': 0.02076071975825973, 'min_child_weight': 6, 'subsample': 0.6530837577659918, 'colsample_bytree': 0.8830744600748629, 'gamma': 1.0494013657779377e-08}. Best is trial 79 with value: 1.4366313080141977.\n",
            "[I 2025-01-11 10:42:39,215] Trial 107 finished with value: 1.451473280800259 and parameters: {'n_estimators': 375, 'max_depth': 6, 'learning_rate': 0.021587610321049572, 'min_child_weight': 6, 'subsample': 0.6525618934475009, 'colsample_bytree': 0.8874233724013793, 'gamma': 1.1074587690114e-08}. Best is trial 79 with value: 1.4366313080141977.\n",
            "[I 2025-01-11 10:42:40,593] Trial 108 finished with value: 1.4765633665502427 and parameters: {'n_estimators': 365, 'max_depth': 6, 'learning_rate': 0.033058635005353686, 'min_child_weight': 6, 'subsample': 0.6256558066335373, 'colsample_bytree': 0.8744381488545581, 'gamma': 1.2166010109420531e-08}. Best is trial 79 with value: 1.4366313080141977.\n",
            "[I 2025-01-11 10:42:41,242] Trial 109 finished with value: 1.4653885311009982 and parameters: {'n_estimators': 272, 'max_depth': 7, 'learning_rate': 0.01791285700349072, 'min_child_weight': 6, 'subsample': 0.6449366850858, 'colsample_bytree': 0.8879625341193352, 'gamma': 3.9578348570691635e-08}. Best is trial 79 with value: 1.4366313080141977.\n",
            "[I 2025-01-11 10:42:41,935] Trial 110 finished with value: 2.668513977567673 and parameters: {'n_estimators': 253, 'max_depth': 8, 'learning_rate': 0.011254079921926995, 'min_child_weight': 6, 'subsample': 0.663033967917483, 'colsample_bytree': 0.8628926706329437, 'gamma': 2.1535632279075863e-08}. Best is trial 79 with value: 1.4366313080141977.\n",
            "[I 2025-01-11 10:42:42,626] Trial 111 finished with value: 1.4780395102300525 and parameters: {'n_estimators': 382, 'max_depth': 6, 'learning_rate': 0.028860226369191506, 'min_child_weight': 6, 'subsample': 0.6608011815021027, 'colsample_bytree': 0.8831580409359707, 'gamma': 1.4552974758733554e-08}. Best is trial 79 with value: 1.4366313080141977.\n",
            "[I 2025-01-11 10:42:43,139] Trial 112 finished with value: 1.6262094414276058 and parameters: {'n_estimators': 283, 'max_depth': 5, 'learning_rate': 0.02153449966585383, 'min_child_weight': 6, 'subsample': 0.652825038866892, 'colsample_bytree': 0.8817045864932265, 'gamma': 1.623355539207876e-08}. Best is trial 79 with value: 1.4366313080141977.\n",
            "[I 2025-01-11 10:42:43,489] Trial 113 finished with value: 5.1655153920278 and parameters: {'n_estimators': 164, 'max_depth': 4, 'learning_rate': 0.016123131998343268, 'min_child_weight': 6, 'subsample': 0.6250126219438678, 'colsample_bytree': 0.8431497098139832, 'gamma': 1.093594434522861e-08}. Best is trial 79 with value: 1.4366313080141977.\n",
            "[I 2025-01-11 10:42:44,120] Trial 114 finished with value: 1.5734135643392413 and parameters: {'n_estimators': 191, 'max_depth': 9, 'learning_rate': 0.02132859392112772, 'min_child_weight': 6, 'subsample': 0.6080772208688838, 'colsample_bytree': 0.9333901080572031, 'gamma': 3.5741888220631947e-08}. Best is trial 79 with value: 1.4366313080141977.\n",
            "[I 2025-01-11 10:42:44,909] Trial 115 finished with value: 1.5402990705773325 and parameters: {'n_estimators': 312, 'max_depth': 8, 'learning_rate': 0.013542325849195503, 'min_child_weight': 7, 'subsample': 0.7063137673255374, 'colsample_bytree': 0.8720845899568601, 'gamma': 2.4002825464576866e-08}. Best is trial 79 with value: 1.4366313080141977.\n",
            "[I 2025-01-11 10:42:45,488] Trial 116 finished with value: 1.4582207357760815 and parameters: {'n_estimators': 212, 'max_depth': 7, 'learning_rate': 0.030152812836966802, 'min_child_weight': 6, 'subsample': 0.6522076254863698, 'colsample_bytree': 0.8296643472581909, 'gamma': 2.3113735137550743e-07}. Best is trial 79 with value: 1.4366313080141977.\n",
            "[I 2025-01-11 10:42:46,031] Trial 117 finished with value: 1.457132664379408 and parameters: {'n_estimators': 210, 'max_depth': 7, 'learning_rate': 0.030007527099214854, 'min_child_weight': 5, 'subsample': 0.6393178504869643, 'colsample_bytree': 0.8150575048352792, 'gamma': 1.975167976337063e-07}. Best is trial 79 with value: 1.4366313080141977.\n",
            "[I 2025-01-11 10:42:46,532] Trial 118 finished with value: 1.4957497344626336 and parameters: {'n_estimators': 182, 'max_depth': 7, 'learning_rate': 0.02486132769007179, 'min_child_weight': 5, 'subsample': 0.6383345655366149, 'colsample_bytree': 0.9017866852005011, 'gamma': 1.5684560391239445e-07}. Best is trial 79 with value: 1.4366313080141977.\n",
            "[I 2025-01-11 10:42:47,117] Trial 119 finished with value: 1.4995787975718884 and parameters: {'n_estimators': 126, 'max_depth': 11, 'learning_rate': 0.03615517913407059, 'min_child_weight': 5, 'subsample': 0.6177328795105133, 'colsample_bytree': 0.8574381996626037, 'gamma': 3.464304307265187e-07}. Best is trial 79 with value: 1.4366313080141977.\n",
            "[I 2025-01-11 10:42:47,536] Trial 120 finished with value: 2.813378001554769 and parameters: {'n_estimators': 250, 'max_depth': 4, 'learning_rate': 0.018679402048040264, 'min_child_weight': 5, 'subsample': 0.6076694148256585, 'colsample_bytree': 0.9212672312873197, 'gamma': 3.7624046380376674e-07}. Best is trial 79 with value: 1.4366313080141977.\n",
            "[I 2025-01-11 10:42:48,066] Trial 121 finished with value: 1.4471657717879312 and parameters: {'n_estimators': 203, 'max_depth': 7, 'learning_rate': 0.030543587918422807, 'min_child_weight': 5, 'subsample': 0.6263625071683805, 'colsample_bytree': 0.8357858763389586, 'gamma': 2.3071175722260134e-07}. Best is trial 79 with value: 1.4366313080141977.\n",
            "[I 2025-01-11 10:42:48,565] Trial 122 finished with value: 1.4780301186472609 and parameters: {'n_estimators': 216, 'max_depth': 6, 'learning_rate': 0.026591152778467395, 'min_child_weight': 5, 'subsample': 0.623970402565819, 'colsample_bytree': 0.7909833417492163, 'gamma': 2.0934620038211553e-07}. Best is trial 79 with value: 1.4366313080141977.\n",
            "[I 2025-01-11 10:42:49,334] Trial 123 finished with value: 1.4473683306127425 and parameters: {'n_estimators': 291, 'max_depth': 8, 'learning_rate': 0.023037516940671857, 'min_child_weight': 5, 'subsample': 0.6142864173921451, 'colsample_bytree': 0.8117582282700165, 'gamma': 1.2758870522876357e-07}. Best is trial 79 with value: 1.4366313080141977.\n",
            "[I 2025-01-11 10:42:50,179] Trial 124 finished with value: 1.4572549035789237 and parameters: {'n_estimators': 280, 'max_depth': 9, 'learning_rate': 0.02291492635047995, 'min_child_weight': 5, 'subsample': 0.6001318984025225, 'colsample_bytree': 0.8497658034209188, 'gamma': 1.1099930655023068e-07}. Best is trial 79 with value: 1.4366313080141977.\n",
            "[I 2025-01-11 10:42:51,040] Trial 125 finished with value: 1.4571835041508703 and parameters: {'n_estimators': 292, 'max_depth': 8, 'learning_rate': 0.024639704806205295, 'min_child_weight': 5, 'subsample': 0.6155635391704833, 'colsample_bytree': 0.7658415861361754, 'gamma': 1.000320470402735e-08}. Best is trial 79 with value: 1.4366313080141977.\n",
            "[I 2025-01-11 10:42:52,685] Trial 126 finished with value: 1.5390980919394368 and parameters: {'n_estimators': 241, 'max_depth': 9, 'learning_rate': 0.05589172366897256, 'min_child_weight': 5, 'subsample': 0.6277575773760804, 'colsample_bytree': 0.7986123162530353, 'gamma': 4.129703922565191e-08}. Best is trial 79 with value: 1.4366313080141977.\n",
            "[I 2025-01-11 10:42:54,003] Trial 127 finished with value: 1.4464826470010075 and parameters: {'n_estimators': 253, 'max_depth': 8, 'learning_rate': 0.01996488323610201, 'min_child_weight': 5, 'subsample': 0.6150581330222793, 'colsample_bytree': 0.8247652924198695, 'gamma': 7.790546137158611e-07}. Best is trial 79 with value: 1.4366313080141977.\n",
            "[I 2025-01-11 10:42:54,458] Trial 128 finished with value: 2.7228235202046553 and parameters: {'n_estimators': 175, 'max_depth': 6, 'learning_rate': 0.016950987383114378, 'min_child_weight': 5, 'subsample': 0.6141672666677049, 'colsample_bytree': 0.82978412192871, 'gamma': 8.171398555312188e-07}. Best is trial 79 with value: 1.4366313080141977.\n",
            "[I 2025-01-11 10:42:55,053] Trial 129 finished with value: 1.6756672729349662 and parameters: {'n_estimators': 261, 'max_depth': 7, 'learning_rate': 0.014861154448411448, 'min_child_weight': 5, 'subsample': 0.7269411846661837, 'colsample_bytree': 0.7778475532845711, 'gamma': 4.284616176837996e-07}. Best is trial 79 with value: 1.4366313080141977.\n",
            "[I 2025-01-11 10:42:55,706] Trial 130 finished with value: 1.4842760365353178 and parameters: {'n_estimators': 231, 'max_depth': 8, 'learning_rate': 0.019709156523707357, 'min_child_weight': 5, 'subsample': 0.6180173342659768, 'colsample_bytree': 0.8374391384328073, 'gamma': 2.0238302061060753e-06}. Best is trial 79 with value: 1.4366313080141977.\n",
            "[I 2025-01-11 10:42:56,679] Trial 131 finished with value: 1.464390544609386 and parameters: {'n_estimators': 282, 'max_depth': 10, 'learning_rate': 0.022403507010043813, 'min_child_weight': 5, 'subsample': 0.6059423977379238, 'colsample_bytree': 0.8916502275377577, 'gamma': 2.71690519034793e-07}. Best is trial 79 with value: 1.4366313080141977.\n",
            "[I 2025-01-11 10:42:57,171] Trial 132 finished with value: 1.5161684073006385 and parameters: {'n_estimators': 254, 'max_depth': 5, 'learning_rate': 0.027470664350406824, 'min_child_weight': 5, 'subsample': 0.6070004219657021, 'colsample_bytree': 0.8039450479963914, 'gamma': 7.538080414420952e-07}. Best is trial 79 with value: 1.4366313080141977.\n",
            "[I 2025-01-11 10:42:57,850] Trial 133 finished with value: 1.5330369924085374 and parameters: {'n_estimators': 207, 'max_depth': 9, 'learning_rate': 0.020641111414976942, 'min_child_weight': 5, 'subsample': 0.6274745650730302, 'colsample_bytree': 0.823972116610985, 'gamma': 1.5688075721630422e-07}. Best is trial 79 with value: 1.4366313080141977.\n",
            "[I 2025-01-11 10:42:58,512] Trial 134 finished with value: 1.4487456473691487 and parameters: {'n_estimators': 230, 'max_depth': 8, 'learning_rate': 0.024644724412815542, 'min_child_weight': 5, 'subsample': 0.6128518724974373, 'colsample_bytree': 0.8118417605919528, 'gamma': 7.338599836858504e-08}. Best is trial 79 with value: 1.4366313080141977.\n",
            "[I 2025-01-11 10:42:59,412] Trial 135 finished with value: 1.505852500567603 and parameters: {'n_estimators': 363, 'max_depth': 8, 'learning_rate': 0.03224029328650599, 'min_child_weight': 5, 'subsample': 0.6148355418682955, 'colsample_bytree': 0.8159665217613893, 'gamma': 7.478646703847902e-08}. Best is trial 79 with value: 1.4366313080141977.\n",
            "[I 2025-01-11 10:43:00,560] Trial 136 finished with value: 1.5170708240664403 and parameters: {'n_estimators': 612, 'max_depth': 7, 'learning_rate': 0.02416269531331904, 'min_child_weight': 5, 'subsample': 0.6000762252724334, 'colsample_bytree': 0.8139782921705023, 'gamma': 2.2835971062196545e-08}. Best is trial 79 with value: 1.4366313080141977.\n",
            "[I 2025-01-11 10:43:01,199] Trial 137 finished with value: 1.6000633351478857 and parameters: {'n_estimators': 228, 'max_depth': 8, 'learning_rate': 0.017663362002152024, 'min_child_weight': 5, 'subsample': 0.637296397722431, 'colsample_bytree': 0.7985101687189586, 'gamma': 2.4249986916659805e-07}. Best is trial 79 with value: 1.4366313080141977.\n",
            "[I 2025-01-11 10:43:01,630] Trial 138 finished with value: 1.5499463798280069 and parameters: {'n_estimators': 185, 'max_depth': 6, 'learning_rate': 0.02621972470502913, 'min_child_weight': 5, 'subsample': 0.6232456657832481, 'colsample_bytree': 0.8266732095621455, 'gamma': 7.486901494490582e-08}. Best is trial 79 with value: 1.4366313080141977.\n",
            "[I 2025-01-11 10:43:02,096] Trial 139 finished with value: 1.5066167801332528 and parameters: {'n_estimators': 154, 'max_depth': 7, 'learning_rate': 0.02908004489032615, 'min_child_weight': 5, 'subsample': 0.6460861719802438, 'colsample_bytree': 0.839727369247548, 'gamma': 1.5546627929854672e-07}. Best is trial 79 with value: 1.4366313080141977.\n",
            "[I 2025-01-11 10:43:02,516] Trial 140 finished with value: 3.9689563327974255 and parameters: {'n_estimators': 289, 'max_depth': 3, 'learning_rate': 0.019536698957826053, 'min_child_weight': 4, 'subsample': 0.6143338656060262, 'colsample_bytree': 0.8628639527970157, 'gamma': 3.650187052148302e-08}. Best is trial 79 with value: 1.4366313080141977.\n",
            "[I 2025-01-11 10:43:03,312] Trial 141 finished with value: 1.452555275340669 and parameters: {'n_estimators': 249, 'max_depth': 9, 'learning_rate': 0.02253552870314884, 'min_child_weight': 5, 'subsample': 0.6061820455483576, 'colsample_bytree': 0.87276535842279, 'gamma': 1.2104011374532784e-07}. Best is trial 79 with value: 1.4366313080141977.\n",
            "[I 2025-01-11 10:43:04,194] Trial 142 finished with value: 1.4662449513433675 and parameters: {'n_estimators': 260, 'max_depth': 9, 'learning_rate': 0.024243635374955854, 'min_child_weight': 5, 'subsample': 0.6084460404454872, 'colsample_bytree': 0.8930676459635861, 'gamma': 1.2431762409164174e-07}. Best is trial 79 with value: 1.4366313080141977.\n",
            "[I 2025-01-11 10:43:05,882] Trial 143 finished with value: 1.4979870610688306 and parameters: {'n_estimators': 234, 'max_depth': 8, 'learning_rate': 0.038209985206103234, 'min_child_weight': 5, 'subsample': 0.7808478173798876, 'colsample_bytree': 0.87757551908341, 'gamma': 3.860860716308775e-07}. Best is trial 79 with value: 1.4366313080141977.\n",
            "[I 2025-01-11 10:43:07,550] Trial 144 finished with value: 1.5348678054172427 and parameters: {'n_estimators': 501, 'max_depth': 8, 'learning_rate': 0.03297733879545386, 'min_child_weight': 5, 'subsample': 0.6254750979134065, 'colsample_bytree': 0.9016797455692539, 'gamma': 9.61936478217938e-08}. Best is trial 79 with value: 1.4366313080141977.\n",
            "[I 2025-01-11 10:43:08,573] Trial 145 finished with value: 1.45792382931654 and parameters: {'n_estimators': 320, 'max_depth': 10, 'learning_rate': 0.016219363408225607, 'min_child_weight': 6, 'subsample': 0.6000265254619621, 'colsample_bytree': 0.8671607740149142, 'gamma': 1.9036108967983208e-08}. Best is trial 79 with value: 1.4366313080141977.\n",
            "[I 2025-01-11 10:43:09,169] Trial 146 finished with value: 1.4335929972445567 and parameters: {'n_estimators': 274, 'max_depth': 7, 'learning_rate': 0.02150004837942959, 'min_child_weight': 5, 'subsample': 0.6206154221950531, 'colsample_bytree': 0.8535424669389658, 'gamma': 2.3343032450375334e-07}. Best is trial 146 with value: 1.4335929972445567.\n",
            "[I 2025-01-11 10:43:09,623] Trial 147 finished with value: 2.0788685448830098 and parameters: {'n_estimators': 202, 'max_depth': 5, 'learning_rate': 0.02085013927077418, 'min_child_weight': 5, 'subsample': 0.636726374112265, 'colsample_bytree': 0.8540286582457787, 'gamma': 2.551981309158722e-07}. Best is trial 146 with value: 1.4335929972445567.\n",
            "[I 2025-01-11 10:43:10,300] Trial 148 finished with value: 1.443230050544883 and parameters: {'n_estimators': 292, 'max_depth': 7, 'learning_rate': 0.0189922043533419, 'min_child_weight': 5, 'subsample': 0.6197622221389573, 'colsample_bytree': 0.8368771075772392, 'gamma': 7.812302463341713e-07}. Best is trial 146 with value: 1.4335929972445567.\n",
            "[I 2025-01-11 10:43:10,999] Trial 149 finished with value: 1.4701473335091781 and parameters: {'n_estimators': 289, 'max_depth': 7, 'learning_rate': 0.018818527895013062, 'min_child_weight': 5, 'subsample': 0.9066710916846519, 'colsample_bytree': 0.8104744288541059, 'gamma': 3.5241979471704158e-06}. Best is trial 146 with value: 1.4335929972445567.\n"
          ]
        },
        {
          "output_type": "stream",
          "name": "stdout",
          "text": [
            "rf: load existing study\n"
          ]
        },
        {
          "output_type": "stream",
          "name": "stderr",
          "text": [
            "[I 2025-01-11 10:43:14,093] Trial 100 finished with value: 1.3845899036780105 and parameters: {'n_estimators': 754, 'max_depth': 30, 'min_samples_split': 17, 'min_samples_leaf': 7, 'max_features': 0.7880885992886755}. Best is trial 100 with value: 1.3845899036780105.\n",
            "[I 2025-01-11 10:43:16,767] Trial 101 finished with value: 1.3865437932913967 and parameters: {'n_estimators': 705, 'max_depth': 30, 'min_samples_split': 17, 'min_samples_leaf': 7, 'max_features': 0.8329517349160579}. Best is trial 100 with value: 1.3845899036780105.\n",
            "[I 2025-01-11 10:43:19,914] Trial 102 finished with value: 1.387727808780531 and parameters: {'n_estimators': 743, 'max_depth': 30, 'min_samples_split': 17, 'min_samples_leaf': 7, 'max_features': 0.8635245905520941}. Best is trial 100 with value: 1.3845899036780105.\n",
            "[I 2025-01-11 10:43:22,683] Trial 103 finished with value: 1.3871658404464464 and parameters: {'n_estimators': 733, 'max_depth': 30, 'min_samples_split': 19, 'min_samples_leaf': 7, 'max_features': 0.8378787296792967}. Best is trial 100 with value: 1.3845899036780105.\n",
            "[I 2025-01-11 10:43:25,314] Trial 104 finished with value: 1.3868299822686811 and parameters: {'n_estimators': 691, 'max_depth': 30, 'min_samples_split': 19, 'min_samples_leaf': 7, 'max_features': 0.8320054079446342}. Best is trial 100 with value: 1.3845899036780105.\n",
            "[I 2025-01-11 10:43:27,939] Trial 105 finished with value: 1.3868972655298466 and parameters: {'n_estimators': 689, 'max_depth': 30, 'min_samples_split': 19, 'min_samples_leaf': 7, 'max_features': 0.8337298042968453}. Best is trial 100 with value: 1.3845899036780105.\n",
            "[I 2025-01-11 10:43:30,807] Trial 106 finished with value: 1.3868409591809816 and parameters: {'n_estimators': 699, 'max_depth': 29, 'min_samples_split': 19, 'min_samples_leaf': 7, 'max_features': 0.835756866961547}. Best is trial 100 with value: 1.3845899036780105.\n",
            "[I 2025-01-11 10:43:33,130] Trial 107 finished with value: 1.3859021714929047 and parameters: {'n_estimators': 610, 'max_depth': 29, 'min_samples_split': 19, 'min_samples_leaf': 7, 'max_features': 0.8346115897649389}. Best is trial 100 with value: 1.3845899036780105.\n",
            "[I 2025-01-11 10:43:35,581] Trial 108 finished with value: 1.386548651102421 and parameters: {'n_estimators': 612, 'max_depth': 29, 'min_samples_split': 19, 'min_samples_leaf': 7, 'max_features': 0.8989400425296563}. Best is trial 100 with value: 1.3845899036780105.\n",
            "[I 2025-01-11 10:43:38,263] Trial 109 finished with value: 1.3841802392137719 and parameters: {'n_estimators': 691, 'max_depth': 29, 'min_samples_split': 19, 'min_samples_leaf': 7, 'max_features': 0.890790311170952}. Best is trial 109 with value: 1.3841802392137719.\n",
            "[I 2025-01-11 10:43:40,750] Trial 110 finished with value: 1.3861853402268671 and parameters: {'n_estimators': 609, 'max_depth': 29, 'min_samples_split': 19, 'min_samples_leaf': 7, 'max_features': 0.9133189597630337}. Best is trial 109 with value: 1.3841802392137719.\n",
            "[I 2025-01-11 10:43:43,492] Trial 111 finished with value: 1.3862668982514015 and parameters: {'n_estimators': 610, 'max_depth': 29, 'min_samples_split': 19, 'min_samples_leaf': 7, 'max_features': 0.91084453054537}. Best is trial 109 with value: 1.3841802392137719.\n",
            "[I 2025-01-11 10:43:45,943] Trial 112 finished with value: 1.3861380243102144 and parameters: {'n_estimators': 608, 'max_depth': 29, 'min_samples_split': 19, 'min_samples_leaf': 7, 'max_features': 0.9189508536823437}. Best is trial 109 with value: 1.3841802392137719.\n",
            "[I 2025-01-11 10:43:48,063] Trial 113 finished with value: 1.3851061101885656 and parameters: {'n_estimators': 521, 'max_depth': 29, 'min_samples_split': 20, 'min_samples_leaf': 7, 'max_features': 0.922264114428069}. Best is trial 109 with value: 1.3841802392137719.\n",
            "[I 2025-01-11 10:43:50,247] Trial 114 finished with value: 1.3853075514693378 and parameters: {'n_estimators': 539, 'max_depth': 29, 'min_samples_split': 20, 'min_samples_leaf': 7, 'max_features': 0.9156262736510649}. Best is trial 109 with value: 1.3841802392137719.\n",
            "[I 2025-01-11 10:43:52,317] Trial 115 finished with value: 1.3851060543530826 and parameters: {'n_estimators': 507, 'max_depth': 29, 'min_samples_split': 20, 'min_samples_leaf': 7, 'max_features': 0.9188034904924122}. Best is trial 109 with value: 1.3841802392137719.\n",
            "[I 2025-01-11 10:43:54,628] Trial 116 finished with value: 1.384393708788044 and parameters: {'n_estimators': 521, 'max_depth': 29, 'min_samples_split': 20, 'min_samples_leaf': 8, 'max_features': 0.9476158626913149}. Best is trial 109 with value: 1.3841802392137719.\n",
            "[I 2025-01-11 10:43:56,864] Trial 117 finished with value: 1.384479333247069 and parameters: {'n_estimators': 522, 'max_depth': 29, 'min_samples_split': 20, 'min_samples_leaf': 8, 'max_features': 0.9455692618662601}. Best is trial 109 with value: 1.3841802392137719.\n",
            "[I 2025-01-11 10:43:58,996] Trial 118 finished with value: 1.3843163181014075 and parameters: {'n_estimators': 517, 'max_depth': 29, 'min_samples_split': 20, 'min_samples_leaf': 8, 'max_features': 0.9451323977974047}. Best is trial 109 with value: 1.3841802392137719.\n",
            "[I 2025-01-11 10:44:01,099] Trial 119 finished with value: 1.3844162961860897 and parameters: {'n_estimators': 513, 'max_depth': 27, 'min_samples_split': 20, 'min_samples_leaf': 8, 'max_features': 0.9508205177235388}. Best is trial 109 with value: 1.3841802392137719.\n",
            "[I 2025-01-11 10:44:03,321] Trial 120 finished with value: 1.3845298120131297 and parameters: {'n_estimators': 514, 'max_depth': 27, 'min_samples_split': 20, 'min_samples_leaf': 8, 'max_features': 0.9467817206019794}. Best is trial 109 with value: 1.3841802392137719.\n",
            "[I 2025-01-11 10:44:05,564] Trial 121 finished with value: 1.3844043827561145 and parameters: {'n_estimators': 523, 'max_depth': 27, 'min_samples_split': 20, 'min_samples_leaf': 8, 'max_features': 0.9448752957753898}. Best is trial 109 with value: 1.3841802392137719.\n",
            "[I 2025-01-11 10:44:07,868] Trial 122 finished with value: 1.383500823662117 and parameters: {'n_estimators': 505, 'max_depth': 27, 'min_samples_split': 20, 'min_samples_leaf': 9, 'max_features': 0.9444688936786457}. Best is trial 122 with value: 1.383500823662117.\n",
            "[I 2025-01-11 10:44:09,932] Trial 123 finished with value: 1.3833039882887772 and parameters: {'n_estimators': 508, 'max_depth': 26, 'min_samples_split': 20, 'min_samples_leaf': 9, 'max_features': 0.9508301119755191}. Best is trial 123 with value: 1.3833039882887772.\n",
            "[I 2025-01-11 10:44:12,040] Trial 124 finished with value: 1.3830964048593513 and parameters: {'n_estimators': 517, 'max_depth': 27, 'min_samples_split': 20, 'min_samples_leaf': 9, 'max_features': 0.9442437902295693}. Best is trial 124 with value: 1.3830964048593513.\n",
            "[I 2025-01-11 10:44:14,008] Trial 125 finished with value: 1.3831802973776108 and parameters: {'n_estimators': 482, 'max_depth': 27, 'min_samples_split': 20, 'min_samples_leaf': 9, 'max_features': 0.9516292285910027}. Best is trial 124 with value: 1.3830964048593513.\n",
            "[I 2025-01-11 10:44:16,018] Trial 126 finished with value: 1.3831802973776104 and parameters: {'n_estimators': 482, 'max_depth': 27, 'min_samples_split': 20, 'min_samples_leaf': 9, 'max_features': 0.9553935231333752}. Best is trial 124 with value: 1.3830964048593513.\n",
            "[I 2025-01-11 10:44:18,030] Trial 127 finished with value: 1.3826919302801 and parameters: {'n_estimators': 478, 'max_depth': 26, 'min_samples_split': 20, 'min_samples_leaf': 9, 'max_features': 0.9556561352169122}. Best is trial 127 with value: 1.3826919302801.\n",
            "[I 2025-01-11 10:44:20,254] Trial 128 finished with value: 1.383106875359997 and parameters: {'n_estimators': 486, 'max_depth': 26, 'min_samples_split': 20, 'min_samples_leaf': 9, 'max_features': 0.9544222211600121}. Best is trial 127 with value: 1.3826919302801.\n",
            "[I 2025-01-11 10:44:22,233] Trial 129 finished with value: 1.3827732994372153 and parameters: {'n_estimators': 479, 'max_depth': 26, 'min_samples_split': 20, 'min_samples_leaf': 9, 'max_features': 0.9585558456641879}. Best is trial 127 with value: 1.3826919302801.\n",
            "[I 2025-01-11 10:44:24,222] Trial 130 finished with value: 1.3852038136635831 and parameters: {'n_estimators': 479, 'max_depth': 26, 'min_samples_split': 20, 'min_samples_leaf': 9, 'max_features': 0.9919978521938022}. Best is trial 127 with value: 1.3826919302801.\n",
            "[I 2025-01-11 10:44:26,047] Trial 131 finished with value: 1.3830114941484426 and parameters: {'n_estimators': 437, 'max_depth': 27, 'min_samples_split': 20, 'min_samples_leaf': 9, 'max_features': 0.9542505105960288}. Best is trial 127 with value: 1.3826919302801.\n",
            "[I 2025-01-11 10:44:27,982] Trial 132 finished with value: 1.3855745856938608 and parameters: {'n_estimators': 451, 'max_depth': 26, 'min_samples_split': 20, 'min_samples_leaf': 9, 'max_features': 0.9653659070307814}. Best is trial 127 with value: 1.3826919302801.\n",
            "[I 2025-01-11 10:44:30,017] Trial 133 finished with value: 1.383759284085206 and parameters: {'n_estimators': 490, 'max_depth': 27, 'min_samples_split': 20, 'min_samples_leaf': 10, 'max_features': 0.9608194790570099}. Best is trial 127 with value: 1.3826919302801.\n",
            "[I 2025-01-11 10:44:32,086] Trial 134 finished with value: 1.385242004915018 and parameters: {'n_estimators': 429, 'max_depth': 25, 'min_samples_split': 20, 'min_samples_leaf': 10, 'max_features': 0.9727457731890252}. Best is trial 127 with value: 1.3826919302801.\n",
            "[I 2025-01-11 10:44:33,997] Trial 135 finished with value: 1.3820710148688549 and parameters: {'n_estimators': 482, 'max_depth': 24, 'min_samples_split': 20, 'min_samples_leaf': 10, 'max_features': 0.8870781782428634}. Best is trial 135 with value: 1.3820710148688549.\n",
            "[I 2025-01-11 10:44:35,862] Trial 136 finished with value: 1.3813155548589255 and parameters: {'n_estimators': 475, 'max_depth': 26, 'min_samples_split': 20, 'min_samples_leaf': 10, 'max_features': 0.8926430592659924}. Best is trial 136 with value: 1.3813155548589255.\n",
            "[I 2025-01-11 10:44:37,774] Trial 137 finished with value: 1.3848929666718752 and parameters: {'n_estimators': 486, 'max_depth': 26, 'min_samples_split': 20, 'min_samples_leaf': 10, 'max_features': 0.8934885271519089}. Best is trial 136 with value: 1.3813155548589255.\n",
            "[I 2025-01-11 10:44:40,039] Trial 138 finished with value: 1.3860010970499586 and parameters: {'n_estimators': 551, 'max_depth': 24, 'min_samples_split': 20, 'min_samples_leaf': 9, 'max_features': 0.996140391225276}. Best is trial 136 with value: 1.3813155548589255.\n",
            "[I 2025-01-11 10:44:41,920] Trial 139 finished with value: 1.3812789064784423 and parameters: {'n_estimators': 473, 'max_depth': 25, 'min_samples_split': 20, 'min_samples_leaf': 10, 'max_features': 0.8899522646816499}. Best is trial 139 with value: 1.3812789064784423.\n",
            "[I 2025-01-11 10:44:43,746] Trial 140 finished with value: 1.3814830744544195 and parameters: {'n_estimators': 410, 'max_depth': 25, 'min_samples_split': 19, 'min_samples_leaf': 10, 'max_features': 0.8753199359583796}. Best is trial 139 with value: 1.3812789064784423.\n",
            "[I 2025-01-11 10:44:45,630] Trial 141 finished with value: 1.3812789064784423 and parameters: {'n_estimators': 473, 'max_depth': 25, 'min_samples_split': 19, 'min_samples_leaf': 10, 'max_features': 0.8826493667136196}. Best is trial 139 with value: 1.3812789064784423.\n",
            "[I 2025-01-11 10:44:47,644] Trial 142 finished with value: 1.38526668735414 and parameters: {'n_estimators': 473, 'max_depth': 25, 'min_samples_split': 19, 'min_samples_leaf': 10, 'max_features': 0.9667736480040602}. Best is trial 139 with value: 1.3812789064784423.\n",
            "[I 2025-01-11 10:44:49,401] Trial 143 finished with value: 1.3820503601651246 and parameters: {'n_estimators': 438, 'max_depth': 24, 'min_samples_split': 20, 'min_samples_leaf': 10, 'max_features': 0.8792844587476828}. Best is trial 139 with value: 1.3812789064784423.\n",
            "[I 2025-01-11 10:44:51,108] Trial 144 finished with value: 1.3815610841737194 and parameters: {'n_estimators': 423, 'max_depth': 24, 'min_samples_split': 20, 'min_samples_leaf': 10, 'max_features': 0.8731108052489146}. Best is trial 139 with value: 1.3812789064784423.\n",
            "[I 2025-01-11 10:44:52,730] Trial 145 finished with value: 1.3813461947076653 and parameters: {'n_estimators': 407, 'max_depth': 23, 'min_samples_split': 19, 'min_samples_leaf': 10, 'max_features': 0.8690434088724382}. Best is trial 139 with value: 1.3812789064784423.\n",
            "[I 2025-01-11 10:44:54,335] Trial 146 finished with value: 1.3811553960051484 and parameters: {'n_estimators': 408, 'max_depth': 23, 'min_samples_split': 19, 'min_samples_leaf': 10, 'max_features': 0.8747819589723369}. Best is trial 146 with value: 1.3811553960051484.\n",
            "[I 2025-01-11 10:44:56,113] Trial 147 finished with value: 1.3807987115099702 and parameters: {'n_estimators': 399, 'max_depth': 23, 'min_samples_split': 19, 'min_samples_leaf': 10, 'max_features': 0.8643117249975802}. Best is trial 147 with value: 1.3807987115099702.\n",
            "[I 2025-01-11 10:44:57,896] Trial 148 finished with value: 1.3813461947076653 and parameters: {'n_estimators': 407, 'max_depth': 23, 'min_samples_split': 18, 'min_samples_leaf': 10, 'max_features': 0.8805334701983804}. Best is trial 147 with value: 1.3807987115099702.\n",
            "[I 2025-01-11 10:44:59,587] Trial 149 finished with value: 1.381427669725615 and parameters: {'n_estimators': 424, 'max_depth': 23, 'min_samples_split': 18, 'min_samples_leaf': 10, 'max_features': 0.8695532891243353}. Best is trial 147 with value: 1.3807987115099702.\n"
          ]
        },
        {
          "output_type": "stream",
          "name": "stdout",
          "text": [
            "catboost: load existing study\n"
          ]
        },
        {
          "output_type": "stream",
          "name": "stderr",
          "text": [
            "[I 2025-01-11 10:45:01,001] Trial 100 finished with value: 1.4299565204880587 and parameters: {'iterations': 566, 'learning_rate': 0.019425451631730574, 'depth': 8, 'l2_leaf_reg': 0.00020208219406410685, 'border_count': 85, 'bagging_temperature': 0.9487239925813694}. Best is trial 85 with value: 1.394985764764336.\n",
            "[I 2025-01-11 10:45:02,645] Trial 101 finished with value: 1.3858375979530766 and parameters: {'iterations': 503, 'learning_rate': 0.027482592902514643, 'depth': 9, 'l2_leaf_reg': 0.0005750152688154109, 'border_count': 104, 'bagging_temperature': 0.969875909760585}. Best is trial 101 with value: 1.3858375979530766.\n",
            "[I 2025-01-11 10:45:04,749] Trial 102 finished with value: 1.443604205696018 and parameters: {'iterations': 533, 'learning_rate': 0.028655950464720182, 'depth': 10, 'l2_leaf_reg': 0.0006331264798617159, 'border_count': 97, 'bagging_temperature': 0.9674047343958845}. Best is trial 101 with value: 1.3858375979530766.\n",
            "[I 2025-01-11 10:45:06,028] Trial 103 finished with value: 1.4097241938900764 and parameters: {'iterations': 508, 'learning_rate': 0.02558868387079307, 'depth': 8, 'l2_leaf_reg': 5.461879377427147e-05, 'border_count': 104, 'bagging_temperature': 0.9023375056715549}. Best is trial 101 with value: 1.3858375979530766.\n",
            "[I 2025-01-11 10:45:07,664] Trial 104 finished with value: 2.1107236246774774 and parameters: {'iterations': 500, 'learning_rate': 0.008960812366660699, 'depth': 9, 'l2_leaf_reg': 0.00020779447121637432, 'border_count': 106, 'bagging_temperature': 0.935238538166997}. Best is trial 101 with value: 1.3858375979530766.\n",
            "[I 2025-01-11 10:45:09,375] Trial 105 finished with value: 1.4496328820209137 and parameters: {'iterations': 465, 'learning_rate': 0.01687160168453038, 'depth': 10, 'l2_leaf_reg': 0.0005728951261265947, 'border_count': 84, 'bagging_temperature': 0.8951344078157245}. Best is trial 101 with value: 1.3858375979530766.\n",
            "[I 2025-01-11 10:45:11,184] Trial 106 finished with value: 1.4648047717280162 and parameters: {'iterations': 598, 'learning_rate': 0.01366099674156881, 'depth': 9, 'l2_leaf_reg': 0.00108031562317323, 'border_count': 96, 'bagging_temperature': 0.9806055642542851}. Best is trial 101 with value: 1.3858375979530766.\n",
            "[I 2025-01-11 10:45:12,823] Trial 107 finished with value: 1.4202111512983058 and parameters: {'iterations': 649, 'learning_rate': 0.024944266691097536, 'depth': 8, 'l2_leaf_reg': 7.225597450895505e-05, 'border_count': 115, 'bagging_temperature': 0.8502827685080102}. Best is trial 101 with value: 1.3858375979530766.\n",
            "[I 2025-01-11 10:45:14,754] Trial 108 finished with value: 1.4372922210413468 and parameters: {'iterations': 549, 'learning_rate': 0.03327122456722139, 'depth': 9, 'l2_leaf_reg': 2.926903474531833e-05, 'border_count': 130, 'bagging_temperature': 0.9535895756077255}. Best is trial 101 with value: 1.3858375979530766.\n",
            "[I 2025-01-11 10:45:16,535] Trial 109 finished with value: 1.420213432962051 and parameters: {'iterations': 446, 'learning_rate': 0.02057981732199892, 'depth': 10, 'l2_leaf_reg': 0.00016776954121323152, 'border_count': 103, 'bagging_temperature': 0.8978181893466038}. Best is trial 101 with value: 1.3858375979530766.\n",
            "[I 2025-01-11 10:45:17,561] Trial 110 finished with value: 1.5762502645903211 and parameters: {'iterations': 494, 'learning_rate': 0.01727385512833348, 'depth': 7, 'l2_leaf_reg': 0.0004142379785369458, 'border_count': 108, 'bagging_temperature': 0.9423105790984613}. Best is trial 101 with value: 1.3858375979530766.\n",
            "[I 2025-01-11 10:45:18,933] Trial 111 finished with value: 1.4099736337595947 and parameters: {'iterations': 528, 'learning_rate': 0.026574840813872624, 'depth': 8, 'l2_leaf_reg': 4.41378377677063e-05, 'border_count': 117, 'bagging_temperature': 0.9165964543044275}. Best is trial 101 with value: 1.3858375979530766.\n",
            "[I 2025-01-11 10:45:20,366] Trial 112 finished with value: 1.409575068122142 and parameters: {'iterations': 569, 'learning_rate': 0.021019135790149447, 'depth': 8, 'l2_leaf_reg': 1.0172783051366265e-05, 'border_count': 101, 'bagging_temperature': 0.8895366791236994}. Best is trial 101 with value: 1.3858375979530766.\n",
            "[I 2025-01-11 10:45:21,734] Trial 113 finished with value: 1.4094607410682196 and parameters: {'iterations': 568, 'learning_rate': 0.02117605244465984, 'depth': 8, 'l2_leaf_reg': 7.230075297170705e-06, 'border_count': 101, 'bagging_temperature': 0.9173926945102477}. Best is trial 101 with value: 1.3858375979530766.\n",
            "[I 2025-01-11 10:45:23,127] Trial 114 finished with value: 1.4136175176843984 and parameters: {'iterations': 570, 'learning_rate': 0.033085857159446286, 'depth': 8, 'l2_leaf_reg': 8.80413174060675e-06, 'border_count': 101, 'bagging_temperature': 0.9627675037580596}. Best is trial 101 with value: 1.3858375979530766.\n",
            "[I 2025-01-11 10:45:24,566] Trial 115 finished with value: 1.4194863709786325 and parameters: {'iterations': 607, 'learning_rate': 0.03241433265034957, 'depth': 8, 'l2_leaf_reg': 6.778942645073531e-06, 'border_count': 98, 'bagging_temperature': 0.9743115535799405}. Best is trial 101 with value: 1.3858375979530766.\n",
            "[I 2025-01-11 10:45:25,712] Trial 116 finished with value: 1.3958657263749765 and parameters: {'iterations': 582, 'learning_rate': 0.027994517853996755, 'depth': 7, 'l2_leaf_reg': 1.055129953281307e-05, 'border_count': 103, 'bagging_temperature': 0.8936182469179775}. Best is trial 101 with value: 1.3858375979530766.\n",
            "[I 2025-01-11 10:45:26,875] Trial 117 finished with value: 1.4120560414823464 and parameters: {'iterations': 572, 'learning_rate': 0.02885071981257432, 'depth': 7, 'l2_leaf_reg': 3.353398551556364e-06, 'border_count': 103, 'bagging_temperature': 0.8488653299770729}. Best is trial 101 with value: 1.3858375979530766.\n",
            "[I 2025-01-11 10:45:28,049] Trial 118 finished with value: 1.4084090746719606 and parameters: {'iterations': 583, 'learning_rate': 0.028479463580212843, 'depth': 7, 'l2_leaf_reg': 3.822483043346863e-06, 'border_count': 112, 'bagging_temperature': 0.8532495168724126}. Best is trial 101 with value: 1.3858375979530766.\n",
            "[I 2025-01-11 10:45:28,967] Trial 119 finished with value: 1.420435387018218 and parameters: {'iterations': 508, 'learning_rate': 0.02796330286012288, 'depth': 6, 'l2_leaf_reg': 3.1264159996654197e-06, 'border_count': 113, 'bagging_temperature': 0.8539649712684737}. Best is trial 101 with value: 1.3858375979530766.\n",
            "[I 2025-01-11 10:45:30,215] Trial 120 finished with value: 1.4467394623904872 and parameters: {'iterations': 581, 'learning_rate': 0.020273667626076432, 'depth': 7, 'l2_leaf_reg': 3.0774436101739056e-06, 'border_count': 117, 'bagging_temperature': 0.7955670369757808}. Best is trial 101 with value: 1.3858375979530766.\n",
            "[I 2025-01-11 10:45:31,332] Trial 121 finished with value: 1.4210071958686414 and parameters: {'iterations': 529, 'learning_rate': 0.029195947415229902, 'depth': 7, 'l2_leaf_reg': 1.3250560614189811e-05, 'border_count': 104, 'bagging_temperature': 0.5750022387365965}. Best is trial 101 with value: 1.3858375979530766.\n",
            "[I 2025-01-11 10:45:32,558] Trial 122 finished with value: 1.4040310711494697 and parameters: {'iterations': 596, 'learning_rate': 0.02538451517062385, 'depth': 7, 'l2_leaf_reg': 3.036103331248537e-05, 'border_count': 127, 'bagging_temperature': 0.8973725612891931}. Best is trial 101 with value: 1.3858375979530766.\n",
            "[I 2025-01-11 10:45:33,855] Trial 123 finished with value: 1.3999503217601355 and parameters: {'iterations': 646, 'learning_rate': 0.025837695705908752, 'depth': 7, 'l2_leaf_reg': 2.171748737957302e-05, 'border_count': 123, 'bagging_temperature': 0.008314316133234856}. Best is trial 101 with value: 1.3858375979530766.\n",
            "[I 2025-01-11 10:45:34,976] Trial 124 finished with value: 1.4985310108329066 and parameters: {'iterations': 652, 'learning_rate': 0.018096028801734103, 'depth': 6, 'l2_leaf_reg': 2.4654006754477743e-05, 'border_count': 140, 'bagging_temperature': 0.8895293376014421}. Best is trial 101 with value: 1.3858375979530766.\n",
            "[I 2025-01-11 10:45:36,215] Trial 125 finished with value: 1.4020753190617377 and parameters: {'iterations': 602, 'learning_rate': 0.025673033739666458, 'depth': 7, 'l2_leaf_reg': 5.087887474061641e-05, 'border_count': 127, 'bagging_temperature': 0.9093556553327651}. Best is trial 101 with value: 1.3858375979530766.\n",
            "[I 2025-01-11 10:45:37,536] Trial 126 finished with value: 1.4120834599853986 and parameters: {'iterations': 662, 'learning_rate': 0.02028337034823368, 'depth': 7, 'l2_leaf_reg': 1.712489829150237e-05, 'border_count': 127, 'bagging_temperature': 0.4493788455707001}. Best is trial 101 with value: 1.3858375979530766.\n",
            "[I 2025-01-11 10:45:38,585] Trial 127 finished with value: 1.4106136821412967 and parameters: {'iterations': 605, 'learning_rate': 0.025245921241377766, 'depth': 6, 'l2_leaf_reg': 1.2659183061006661e-05, 'border_count': 122, 'bagging_temperature': 0.08846150130241824}. Best is trial 101 with value: 1.3858375979530766.\n",
            "[I 2025-01-11 10:45:39,841] Trial 128 finished with value: 1.3991026082299893 and parameters: {'iterations': 591, 'learning_rate': 0.03101371312194883, 'depth': 7, 'l2_leaf_reg': 3.91853160039643e-05, 'border_count': 133, 'bagging_temperature': 0.8921265477484441}. Best is trial 101 with value: 1.3858375979530766.\n",
            "[I 2025-01-11 10:45:41,107] Trial 129 finished with value: 1.3989422978415351 and parameters: {'iterations': 596, 'learning_rate': 0.029863183089447357, 'depth': 7, 'l2_leaf_reg': 3.4891901607013924e-05, 'border_count': 136, 'bagging_temperature': 0.8534031216951276}. Best is trial 101 with value: 1.3858375979530766.\n",
            "[I 2025-01-11 10:45:42,382] Trial 130 finished with value: 1.4044867857528203 and parameters: {'iterations': 587, 'learning_rate': 0.030800104217931775, 'depth': 7, 'l2_leaf_reg': 3.440864218518173e-05, 'border_count': 136, 'bagging_temperature': 0.8184911946328193}. Best is trial 101 with value: 1.3858375979530766.\n",
            "[I 2025-01-11 10:45:43,706] Trial 131 finished with value: 1.4023763004350203 and parameters: {'iterations': 594, 'learning_rate': 0.03182788587979211, 'depth': 7, 'l2_leaf_reg': 3.602323070934816e-05, 'border_count': 150, 'bagging_temperature': 0.8096610591541579}. Best is trial 101 with value: 1.3858375979530766.\n",
            "[I 2025-01-11 10:45:44,918] Trial 132 finished with value: 1.4112840597906524 and parameters: {'iterations': 595, 'learning_rate': 0.03076324500010215, 'depth': 7, 'l2_leaf_reg': 3.730479887615675e-05, 'border_count': 136, 'bagging_temperature': 0.8068100908268956}. Best is trial 101 with value: 1.3858375979530766.\n",
            "[I 2025-01-11 10:45:46,303] Trial 133 finished with value: 1.4119292431111399 and parameters: {'iterations': 633, 'learning_rate': 0.04233007495268328, 'depth': 7, 'l2_leaf_reg': 2.1818850253570502e-05, 'border_count': 155, 'bagging_temperature': 0.8556807120296192}. Best is trial 101 with value: 1.3858375979530766.\n",
            "[I 2025-01-11 10:45:47,424] Trial 134 finished with value: 1.4261711487278401 and parameters: {'iterations': 615, 'learning_rate': 0.032761490902789195, 'depth': 6, 'l2_leaf_reg': 7.378379440650444e-05, 'border_count': 150, 'bagging_temperature': 0.8182365471016256}. Best is trial 101 with value: 1.3858375979530766.\n",
            "[I 2025-01-11 10:45:48,651] Trial 135 finished with value: 1.4203950688717222 and parameters: {'iterations': 590, 'learning_rate': 0.02968712938063676, 'depth': 7, 'l2_leaf_reg': 0.00027510417249869705, 'border_count': 140, 'bagging_temperature': 0.007063295359187961}. Best is trial 101 with value: 1.3858375979530766.\n",
            "[I 2025-01-11 10:45:49,966] Trial 136 finished with value: 1.4052478549713052 and parameters: {'iterations': 642, 'learning_rate': 0.033929794298273634, 'depth': 7, 'l2_leaf_reg': 3.271914853774512e-05, 'border_count': 127, 'bagging_temperature': 0.8487708193648341}. Best is trial 101 with value: 1.3858375979530766.\n",
            "[I 2025-01-11 10:45:51,320] Trial 137 finished with value: 1.4053197727055178 and parameters: {'iterations': 668, 'learning_rate': 0.03464616441720349, 'depth': 7, 'l2_leaf_reg': 3.726297447071204e-05, 'border_count': 127, 'bagging_temperature': 0.7855594648151257}. Best is trial 101 with value: 1.3858375979530766.\n",
            "[I 2025-01-11 10:45:52,452] Trial 138 finished with value: 1.4056733527671446 and parameters: {'iterations': 643, 'learning_rate': 0.043853145377940814, 'depth': 6, 'l2_leaf_reg': 1.8630081929289734e-05, 'border_count': 133, 'bagging_temperature': 0.12189341441954972}. Best is trial 101 with value: 1.3858375979530766.\n",
            "[I 2025-01-11 10:45:53,558] Trial 139 finished with value: 1.413182091173995 and parameters: {'iterations': 610, 'learning_rate': 0.04063986719278247, 'depth': 6, 'l2_leaf_reg': 0.00012138935936572153, 'border_count': 150, 'bagging_temperature': 0.7451392651182799}. Best is trial 101 with value: 1.3858375979530766.\n",
            "[I 2025-01-11 10:45:54,923] Trial 140 finished with value: 1.3957253158557053 and parameters: {'iterations': 644, 'learning_rate': 0.02468584296135624, 'depth': 7, 'l2_leaf_reg': 3.28754382250624e-05, 'border_count': 155, 'bagging_temperature': 0.8865356383004833}. Best is trial 101 with value: 1.3858375979530766.\n",
            "[I 2025-01-11 10:45:56,289] Trial 141 finished with value: 1.3926358654950217 and parameters: {'iterations': 640, 'learning_rate': 0.026574437635290184, 'depth': 7, 'l2_leaf_reg': 3.0368037116638628e-05, 'border_count': 155, 'bagging_temperature': 0.8415933736767578}. Best is trial 101 with value: 1.3858375979530766.\n",
            "[I 2025-01-11 10:45:57,588] Trial 142 finished with value: 1.4026128402690548 and parameters: {'iterations': 624, 'learning_rate': 0.025792493767625345, 'depth': 7, 'l2_leaf_reg': 6.754575719132747e-05, 'border_count': 154, 'bagging_temperature': 0.8869689999877968}. Best is trial 101 with value: 1.3858375979530766.\n",
            "[I 2025-01-11 10:45:58,898] Trial 143 finished with value: 1.4099148055659525 and parameters: {'iterations': 628, 'learning_rate': 0.024748184951489522, 'depth': 7, 'l2_leaf_reg': 5.99481249066426e-05, 'border_count': 159, 'bagging_temperature': 0.8822031667336881}. Best is trial 101 with value: 1.3858375979530766.\n",
            "[I 2025-01-11 10:46:00,045] Trial 144 finished with value: 1.4189920935748335 and parameters: {'iterations': 665, 'learning_rate': 0.026637375080755206, 'depth': 6, 'l2_leaf_reg': 0.00010052075843947055, 'border_count': 154, 'bagging_temperature': 0.8861673969310054}. Best is trial 101 with value: 1.3858375979530766.\n",
            "[I 2025-01-11 10:46:01,359] Trial 145 finished with value: 1.4008144957065587 and parameters: {'iterations': 611, 'learning_rate': 0.02485854092172004, 'depth': 7, 'l2_leaf_reg': 2.1289891431053467e-05, 'border_count': 169, 'bagging_temperature': 0.9429759771574037}. Best is trial 101 with value: 1.3858375979530766.\n",
            "[I 2025-01-11 10:46:02,673] Trial 146 finished with value: 1.4042520808424657 and parameters: {'iterations': 606, 'learning_rate': 0.024488073129286685, 'depth': 7, 'l2_leaf_reg': 1.8990598249623864e-05, 'border_count': 168, 'bagging_temperature': 0.9477398487327657}. Best is trial 101 with value: 1.3858375979530766.\n",
            "[I 2025-01-11 10:46:04,143] Trial 147 finished with value: 1.4094653433856463 and parameters: {'iterations': 680, 'learning_rate': 0.023813971745942585, 'depth': 7, 'l2_leaf_reg': 2.4546500223319806e-05, 'border_count': 180, 'bagging_temperature': 0.9778355416245338}. Best is trial 101 with value: 1.3858375979530766.\n",
            "[I 2025-01-11 10:46:05,101] Trial 148 finished with value: 1.6660991981197282 and parameters: {'iterations': 626, 'learning_rate': 0.018054697682714924, 'depth': 5, 'l2_leaf_reg': 1.317321232482339e-05, 'border_count': 145, 'bagging_temperature': 0.9376972756146965}. Best is trial 101 with value: 1.3858375979530766.\n",
            "[I 2025-01-11 10:46:06,323] Trial 149 finished with value: 1.4643146295374296 and parameters: {'iterations': 656, 'learning_rate': 0.019385187068919306, 'depth': 6, 'l2_leaf_reg': 6.528805646018261e-05, 'border_count': 142, 'bagging_temperature': 0.8973655119935052}. Best is trial 101 with value: 1.3858375979530766.\n"
          ]
        }
      ]
    },
    {
      "cell_type": "markdown",
      "source": [
        "# 앙상블"
      ],
      "metadata": {
        "id": "aWWav31VjN1x"
      }
    },
    {
      "cell_type": "code",
      "source": [
        "# 단순 평균\n",
        "ensemble_mean = (pred_xgb + pred_rf + pred_catboost) / 3\n",
        "\n",
        "#가중치 기반 앙상블\n",
        "weights = [\n",
        "    1/study_xgb.best_value,\n",
        "    1/study_rf.best_value,\n",
        "    1/study_catboost.best_value\n",
        "]\n",
        "weights = np.array(weights) / sum(weights)\n",
        "\n",
        "ensemble_weighted = (\n",
        "    weights[0] * pred_xgb +\n",
        "    weights[1] * pred_rf +\n",
        "    weights[2] * pred_catboost\n",
        ")"
      ],
      "metadata": {
        "id": "U6GALelUjNmh"
      },
      "execution_count": 51,
      "outputs": []
    },
    {
      "cell_type": "markdown",
      "source": [
        "# 결과 평가"
      ],
      "metadata": {
        "id": "JlCvQGsvp3lm"
      }
    },
    {
      "cell_type": "code",
      "source": [
        "print(\"\\n=== 모델 성능 비교 ===\")\n",
        "results = {\n",
        "    'Model': ['XGBoost', 'RandomForest', 'CatBoost', 'Ensemble(Mean)', 'Ensemble(Weighted)'],\n",
        "    'RMSE': [\n",
        "        np.sqrt(mean_squared_error(test_target_df, pred_xgb)),\n",
        "        np.sqrt(mean_squared_error(test_target_df, pred_rf)),\n",
        "        np.sqrt(mean_squared_error(test_target_df, pred_catboost)),\n",
        "        np.sqrt(mean_squared_error(test_target_df, ensemble_mean)),\n",
        "        np.sqrt(mean_squared_error(test_target_df, ensemble_weighted))\n",
        "    ],\n",
        "    'R2': [\n",
        "        r2_score(test_target_df, pred_xgb),\n",
        "        r2_score(test_target_df, pred_rf),\n",
        "        r2_score(test_target_df, pred_catboost),\n",
        "        r2_score(test_target_df, ensemble_mean),\n",
        "        r2_score(test_target_df, ensemble_weighted)\n",
        "    ]\n",
        "}\n",
        "\n",
        "results_df = pd.DataFrame(results)\n",
        "print(results_df.round(4))"
      ],
      "metadata": {
        "id": "pWQ2_3Djp2pI",
        "colab": {
          "base_uri": "https://localhost:8080/"
        },
        "outputId": "1344f82f-00e6-4983-fa4c-2bb3d4df3c7e"
      },
      "execution_count": 52,
      "outputs": [
        {
          "output_type": "stream",
          "name": "stdout",
          "text": [
            "\n",
            "=== 모델 성능 비교 ===\n",
            "                Model    RMSE      R2\n",
            "0             XGBoost  1.4336  0.9985\n",
            "1        RandomForest  1.3808  0.9986\n",
            "2            CatBoost  1.3858  0.9986\n",
            "3      Ensemble(Mean)  1.3813  0.9986\n",
            "4  Ensemble(Weighted)  1.3808  0.9986\n"
          ]
        }
      ]
    },
    {
      "cell_type": "markdown",
      "source": [
        "# 결과 시각화"
      ],
      "metadata": {
        "id": "lCQk9bHhASpw"
      }
    },
    {
      "cell_type": "code",
      "source": [
        "import matplotlib.pyplot as plt\n",
        "import seaborn as sns\n",
        "import numpy as np\n",
        "\n",
        "# 스타일 설정\n",
        "plt.style.use('seaborn-v0_8-paper')\n",
        "sns.set_palette(\"husl\")\n",
        "\n",
        "# 그래프 생성\n",
        "fig, (ax1, ax2) = plt.subplots(1, 2, figsize=(15, 6))\n",
        "\n",
        "# 데이터 준비\n",
        "models = ['XGBoost', 'RandomForest', 'CatBoost', 'Ensemble\\n(Mean)', 'Ensemble\\n(Weighted)']\n",
        "rmse_values = results_df['RMSE'].values\n",
        "r2_values = results_df['R2'].values\n",
        "\n",
        "# RMSE 바 플롯\n",
        "bars = ax1.bar(models, rmse_values, color='skyblue', alpha=0.7)\n",
        "ax1.set_title('RMSE by Model', fontsize=12, pad=15)\n",
        "ax1.set_ylabel('RMSE', fontsize=10)\n",
        "ax1.grid(True, alpha=0.3)\n",
        "\n",
        "# 바 위에 값 표시\n",
        "for bar in bars:\n",
        "    height = bar.get_height()\n",
        "    ax1.text(bar.get_x() + bar.get_width()/2., height,\n",
        "             f'{height:.4f}', ha='center', va='bottom')\n",
        "\n",
        "# R2 Score 라인 플롯\n",
        "ax2.plot(models, r2_values, marker='o', linewidth=2, color='orange')\n",
        "ax2.fill_between(models, r2_values, alpha=0.2, color='orange')\n",
        "ax2.set_title('R² Score by Model', fontsize=12, pad=15)\n",
        "ax2.set_ylabel('R² Score', fontsize=10)\n",
        "ax2.grid(True, alpha=0.3)\n",
        "\n",
        "# R2 값 표시\n",
        "for i, r2 in enumerate(r2_values):\n",
        "    ax2.text(i, r2, f'{r2:.4f}', ha='center', va='bottom')\n",
        "\n",
        "# 전체 그래프 설정\n",
        "plt.suptitle('Model Performance Comparison', fontsize=14, y=1.05)\n",
        "plt.tight_layout()\n",
        "plt.show()"
      ],
      "metadata": {
        "id": "ziq6ck4GASbw",
        "outputId": "204aad09-4fff-4506-dfb3-14102b7deda6",
        "colab": {
          "base_uri": "https://localhost:8080/",
          "height": 596
        }
      },
      "execution_count": 63,
      "outputs": [
        {
          "output_type": "display_data",
          "data": {
            "text/plain": [
              "<Figure size 1500x600 with 2 Axes>"
            ],
            "image/png": "[encoded data removed]"
          },
          "metadata": {}
        }
      ]
    },
    {
      "cell_type": "markdown",
      "source": [
        "# 테스트 데이터 추론"
      ],
      "metadata": {
        "id": "v04v56m6pxBl"
      }
    },
    {
      "cell_type": "markdown",
      "source": [
        "# 랜덤 포레스트"
      ],
      "metadata": {
        "id": "LGk7FrfjbnY7"
      }
    },
    {
      "cell_type": "code",
      "source": [
        "pred_submit_rf = get_optimized_predictions('rf', study_rf, train_df, target_df, submit_test_df)\n",
        "\n",
        "# 최종 예측 결과\n",
        "y_pred = pred_submit_rf"
      ],
      "metadata": {
        "id": "D9aBIIzUbUpT"
      },
      "execution_count": 53,
      "outputs": []
    },
    {
      "cell_type": "code",
      "source": [
        "# sample_submission.csv 불러오기\n",
        "sample_submission_path = '/content/drive/MyDrive/Colab Notebooks/데이터/sample_submission.csv'\n",
        "sample_submission = pd.read_csv(sample_submission_path)\n",
        "\n",
        "# y_pred 값을 sample_submission에 삽입\n",
        "sample_submission['가격(백만원)'] = y_pred\n",
        "\n",
        "# 제출 파일 저장\n",
        "output_path = '/content/drive/MyDrive/Colab Notebooks/데이터/RF+optuna submission.csv'\n",
        "sample_submission.to_csv(output_path, index=False)\n",
        "\n",
        "print(f\"Submission file saved to {output_path}\")"
      ],
      "metadata": {
        "colab": {
          "base_uri": "https://localhost:8080/"
        },
        "id": "OnlxurOebYaI",
        "outputId": "2cbebbaa-0a83-4156-cba4-9bcdedc069e3"
      },
      "execution_count": 54,
      "outputs": [
        {
          "output_type": "stream",
          "name": "stdout",
          "text": [
            "Submission file saved to /content/drive/MyDrive/Colab Notebooks/데이터/RF+optuna submission.csv\n"
          ]
        }
      ]
    },
    {
      "cell_type": "markdown",
      "source": [
        "# 앙상블 가중치"
      ],
      "metadata": {
        "id": "Jzik-4ZtblUR"
      }
    },
    {
      "cell_type": "code",
      "source": [
        "# 각 모델로 submit_test_df 예측\n",
        "pred_submit_xgb = get_optimized_predictions('xgb', study_xgb, train_df, target_df, submit_test_df)\n",
        "pred_submit_rf = get_optimized_predictions('rf', study_rf, train_df, target_df, submit_test_df)\n",
        "pred_submit_catboost = get_optimized_predictions('catboost', study_catboost, train_df, target_df, submit_test_df)\n",
        "\n",
        "# 가중치 계산\n",
        "weights = [\n",
        "    1 / study_xgb.best_value,  # XGBoost의 RMSE 역수\n",
        "    1 / study_rf.best_value,   # RandomForest의 RMSE 역수\n",
        "    1 / study_catboost.best_value  # CatBoost의 RMSE 역수\n",
        "]\n",
        "weights = np.array(weights) / sum(weights)  # 가중치 정규화\n",
        "\n",
        "# 가중치 기반 앙상블\n",
        "ensemble_weighted_submit = (\n",
        "    weights[0] * pred_submit_xgb +\n",
        "    weights[1] * pred_submit_rf +\n",
        "    weights[2] * pred_submit_catboost\n",
        ")\n",
        "\n",
        "# 최종 예측 결과\n",
        "y_pred = ensemble_weighted_submit"
      ],
      "metadata": {
        "id": "h5yYRM7xs9-o"
      },
      "execution_count": 55,
      "outputs": []
    },
    {
      "cell_type": "code",
      "source": [
        "# sample_submission.csv 불러오기\n",
        "sample_submission_path = '/content/drive/MyDrive/Colab Notebooks/데이터/sample_submission.csv'\n",
        "sample_submission = pd.read_csv(sample_submission_path)\n",
        "\n",
        "# y_pred 값을 sample_submission에 삽입\n",
        "sample_submission['가격(백만원)'] = y_pred\n",
        "\n",
        "# 제출 파일 저장\n",
        "output_path = '/content/drive/MyDrive/Colab Notebooks/데이터/RFxgbcatboost+optuna submission.csv'\n",
        "sample_submission.to_csv(output_path, index=False)\n",
        "\n",
        "print(f\"Submission file saved to {output_path}\")"
      ],
      "metadata": {
        "id": "KCwZBocdtD0k",
        "colab": {
          "base_uri": "https://localhost:8080/"
        },
        "outputId": "039b5e9d-917e-4cee-a6df-1df6d468a914"
      },
      "execution_count": 56,
      "outputs": [
        {
          "output_type": "stream",
          "name": "stdout",
          "text": [
            "Submission file saved to /content/drive/MyDrive/Colab Notebooks/데이터/RFxgbcatboost+optuna submission.csv\n"
          ]
        }
      ]
    },
    {
      "cell_type": "code",
      "source": [
        "sample_submission"
      ],
      "metadata": {
        "id": "pX1qeGK9p9ed",
        "colab": {
          "base_uri": "https://localhost:8080/",
          "height": 423
        },
        "outputId": "cb27e27c-7376-4ea5-fd14-ce59810ee8fe"
      },
      "execution_count": 57,
      "outputs": [
        {
          "output_type": "execute_result",
          "data": {
            "text/plain": [
              "           ID     가격(백만원)\n",
              "0    TEST_000  130.516537\n",
              "1    TEST_001   79.836445\n",
              "2    TEST_002   64.952484\n",
              "3    TEST_003   34.986315\n",
              "4    TEST_004   47.713242\n",
              "..        ...         ...\n",
              "841  TEST_841  151.361478\n",
              "842  TEST_842   38.832843\n",
              "843  TEST_843   38.781157\n",
              "844  TEST_844   58.817563\n",
              "845  TEST_845   22.586345\n",
              "\n",
              "[846 rows x 2 columns]"
            ],
            "text/html": [
              "\n",
              "  <div id=\"df-bf075010-e338-4b59-871a-2a9ae8bcb9d9\" class=\"colab-df-container\">\n",
              "    <div>\n",
              "<style scoped>\n",
              "    .dataframe tbody tr th:only-of-type {\n",
              "        vertical-align: middle;\n",
              "    }\n",
              "\n",
              "    .dataframe tbody tr th {\n",
              "        vertical-align: top;\n",
              "    }\n",
              "\n",
              "    .dataframe thead th {\n",
              "        text-align: right;\n",
              "    }\n",
              "</style>\n",
              "<table border=\"1\" class=\"dataframe\">\n",
              "  <thead>\n",
              "    <tr style=\"text-align: right;\">\n",
              "      <th></th>\n",
              "      <th>ID</th>\n",
              "      <th>가격(백만원)</th>\n",
              "    </tr>\n",
              "  </thead>\n",
              "  <tbody>\n",
              "    <tr>\n",
              "      <th>0</th>\n",
              "      <td>TEST_000</td>\n",
              "      <td>130.516537</td>\n",
              "    </tr>\n",
              "    <tr>\n",
              "      <th>1</th>\n",
              "      <td>TEST_001</td>\n",
              "      <td>79.836445</td>\n",
              "    </tr>\n",
              "    <tr>\n",
              "      <th>2</th>\n",
              "      <td>TEST_002</td>\n",
              "      <td>64.952484</td>\n",
              "    </tr>\n",
              "    <tr>\n",
              "      <th>3</th>\n",
              "      <td>TEST_003</td>\n",
              "      <td>34.986315</td>\n",
              "    </tr>\n",
              "    <tr>\n",
              "      <th>4</th>\n",
              "      <td>TEST_004</td>\n",
              "      <td>47.713242</td>\n",
              "    </tr>\n",
              "    <tr>\n",
              "      <th>...</th>\n",
              "      <td>...</td>\n",
              "      <td>...</td>\n",
              "    </tr>\n",
              "    <tr>\n",
              "      <th>841</th>\n",
              "      <td>TEST_841</td>\n",
              "      <td>151.361478</td>\n",
              "    </tr>\n",
              "    <tr>\n",
              "      <th>842</th>\n",
              "      <td>TEST_842</td>\n",
              "      <td>38.832843</td>\n",
              "    </tr>\n",
              "    <tr>\n",
              "      <th>843</th>\n",
              "      <td>TEST_843</td>\n",
              "      <td>38.781157</td>\n",
              "    </tr>\n",
              "    <tr>\n",
              "      <th>844</th>\n",
              "      <td>TEST_844</td>\n",
              "      <td>58.817563</td>\n",
              "    </tr>\n",
              "    <tr>\n",
              "      <th>845</th>\n",
              "      <td>TEST_845</td>\n",
              "      <td>22.586345</td>\n",
              "    </tr>\n",
              "  </tbody>\n",
              "</table>\n",
              "<p>846 rows × 2 columns</p>\n",
              "</div>\n",
              "    <div class=\"colab-df-buttons\">\n",
              "\n",
              "  <div class=\"colab-df-container\">\n",
              "    <button class=\"colab-df-convert\" onclick=\"convertToInteractive('df-bf075010-e338-4b59-871a-2a9ae8bcb9d9')\"\n",
              "            title=\"Convert this dataframe to an interactive table.\"\n",
              "            style=\"display:none;\">\n",
              "\n",
              "  <svg xmlns=\"http://www.w3.org/2000/svg\" height=\"24px\" viewBox=\"0 -960 960 960\">\n",
              "    <path d=\"M120-120v-720h720v720H120Zm60-500h600v-160H180v160Zm220 220h160v-160H400v160Zm0 220h160v-160H400v160ZM180-400h160v-160H180v160Zm440 0h160v-160H620v160ZM180-180h160v-160H180v160Zm440 0h160v-160H620v160Z\"/>\n",
              "  </svg>\n",
              "    </button>\n",
              "\n",
              "  <style>\n",
              "    .colab-df-container {\n",
              "      display:flex;\n",
              "      gap: 12px;\n",
              "    }\n",
              "\n",
              "    .colab-df-convert {\n",
              "      background-color: #E8F0FE;\n",
              "      border: none;\n",
              "      border-radius: 50%;\n",
              "      cursor: pointer;\n",
              "      display: none;\n",
              "      fill: #1967D2;\n",
              "      height: 32px;\n",
              "      padding: 0 0 0 0;\n",
              "      width: 32px;\n",
              "    }\n",
              "\n",
              "    .colab-df-convert:hover {\n",
              "      background-color: #E2EBFA;\n",
              "      box-shadow: 0px 1px 2px rgba(60, 64, 67, 0.3), 0px 1px 3px 1px rgba(60, 64, 67, 0.15);\n",
              "      fill: #174EA6;\n",
              "    }\n",
              "\n",
              "    .colab-df-buttons div {\n",
              "      margin-bottom: 4px;\n",
              "    }\n",
              "\n",
              "    [theme=dark] .colab-df-convert {\n",
              "      background-color: #3B4455;\n",
              "      fill: #D2E3FC;\n",
              "    }\n",
              "\n",
              "    [theme=dark] .colab-df-convert:hover {\n",
              "      background-color: #434B5C;\n",
              "      box-shadow: 0px 1px 3px 1px rgba(0, 0, 0, 0.15);\n",
              "      filter: drop-shadow(0px 1px 2px rgba(0, 0, 0, 0.3));\n",
              "      fill: #FFFFFF;\n",
              "    }\n",
              "  </style>\n",
              "\n",
              "    <script>\n",
              "      const buttonEl =\n",
              "        document.querySelector('#df-bf075010-e338-4b59-871a-2a9ae8bcb9d9 button.colab-df-convert');\n",
              "      buttonEl.style.display =\n",
              "        google.colab.kernel.accessAllowed ? 'block' : 'none';\n",
              "\n",
              "      async function convertToInteractive(key) {\n",
              "        const element = document.querySelector('#df-bf075010-e338-4b59-871a-2a9ae8bcb9d9');\n",
              "        const dataTable =\n",
              "          await google.colab.kernel.invokeFunction('convertToInteractive',\n",
              "                                                    [key], {});\n",
              "        if (!dataTable) return;\n",
              "\n",
              "        const docLinkHtml = 'Like what you see? Visit the ' +\n",
              "          '<a target=\"_blank\" href=https://colab.research.google.com/notebooks/data_table.ipynb>data table notebook</a>'\n",
              "          + ' to learn more about interactive tables.';\n",
              "        element.innerHTML = '';\n",
              "        dataTable['output_type'] = 'display_data';\n",
              "        await google.colab.output.renderOutput(dataTable, element);\n",
              "        const docLink = document.createElement('div');\n",
              "        docLink.innerHTML = docLinkHtml;\n",
              "        element.appendChild(docLink);\n",
              "      }\n",
              "    </script>\n",
              "  </div>\n",
              "\n",
              "\n",
              "<div id=\"df-78750f62-8f69-47ae-839e-cd3dac5f3ade\">\n",
              "  <button class=\"colab-df-quickchart\" onclick=\"quickchart('df-78750f62-8f69-47ae-839e-cd3dac5f3ade')\"\n",
              "            title=\"Suggest charts\"\n",
              "            style=\"display:none;\">\n",
              "\n",
              "<svg xmlns=\"http://www.w3.org/2000/svg\" height=\"24px\"viewBox=\"0 0 24 24\"\n",
              "     width=\"24px\">\n",
              "    <g>\n",
              "        <path d=\"M19 3H5c-1.1 0-2 .9-2 2v14c0 1.1.9 2 2 2h14c1.1 0 2-.9 2-2V5c0-1.1-.9-2-2-2zM9 17H7v-7h2v7zm4 0h-2V7h2v10zm4 0h-2v-4h2v4z\"/>\n",
              "    </g>\n",
              "</svg>\n",
              "  </button>\n",
              "\n",
              "<style>\n",
              "  .colab-df-quickchart {\n",
              "      --bg-color: #E8F0FE;\n",
              "      --fill-color: #1967D2;\n",
              "      --hover-bg-color: #E2EBFA;\n",
              "      --hover-fill-color: #174EA6;\n",
              "      --disabled-fill-color: #AAA;\n",
              "      --disabled-bg-color: #DDD;\n",
              "  }\n",
              "\n",
              "  [theme=dark] .colab-df-quickchart {\n",
              "      --bg-color: #3B4455;\n",
              "      --fill-color: #D2E3FC;\n",
              "      --hover-bg-color: #434B5C;\n",
              "      --hover-fill-color: #FFFFFF;\n",
              "      --disabled-bg-color: #3B4455;\n",
              "      --disabled-fill-color: #666;\n",
              "  }\n",
              "\n",
              "  .colab-df-quickchart {\n",
              "    background-color: var(--bg-color);\n",
              "    border: none;\n",
              "    border-radius: 50%;\n",
              "    cursor: pointer;\n",
              "    display: none;\n",
              "    fill: var(--fill-color);\n",
              "    height: 32px;\n",
              "    padding: 0;\n",
              "    width: 32px;\n",
              "  }\n",
              "\n",
              "  .colab-df-quickchart:hover {\n",
              "    background-color: var(--hover-bg-color);\n",
              "    box-shadow: 0 1px 2px rgba(60, 64, 67, 0.3), 0 1px 3px 1px rgba(60, 64, 67, 0.15);\n",
              "    fill: var(--button-hover-fill-color);\n",
              "  }\n",
              "\n",
              "  .colab-df-quickchart-complete:disabled,\n",
              "  .colab-df-quickchart-complete:disabled:hover {\n",
              "    background-color: var(--disabled-bg-color);\n",
              "    fill: var(--disabled-fill-color);\n",
              "    box-shadow: none;\n",
              "  }\n",
              "\n",
              "  .colab-df-spinner {\n",
              "    border: 2px solid var(--fill-color);\n",
              "    border-color: transparent;\n",
              "    border-bottom-color: var(--fill-color);\n",
              "    animation:\n",
              "      spin 1s steps(1) infinite;\n",
              "  }\n",
              "\n",
              "  @keyframes spin {\n",
              "    0% {\n",
              "      border-color: transparent;\n",
              "      border-bottom-color: var(--fill-color);\n",
              "      border-left-color: var(--fill-color);\n",
              "    }\n",
              "    20% {\n",
              "      border-color: transparent;\n",
              "      border-left-color: var(--fill-color);\n",
              "      border-top-color: var(--fill-color);\n",
              "    }\n",
              "    30% {\n",
              "      border-color: transparent;\n",
              "      border-left-color: var(--fill-color);\n",
              "      border-top-color: var(--fill-color);\n",
              "      border-right-color: var(--fill-color);\n",
              "    }\n",
              "    40% {\n",
              "      border-color: transparent;\n",
              "      border-right-color: var(--fill-color);\n",
              "      border-top-color: var(--fill-color);\n",
              "    }\n",
              "    60% {\n",
              "      border-color: transparent;\n",
              "      border-right-color: var(--fill-color);\n",
              "    }\n",
              "    80% {\n",
              "      border-color: transparent;\n",
              "      border-right-color: var(--fill-color);\n",
              "      border-bottom-color: var(--fill-color);\n",
              "    }\n",
              "    90% {\n",
              "      border-color: transparent;\n",
              "      border-bottom-color: var(--fill-color);\n",
              "    }\n",
              "  }\n",
              "</style>\n",
              "\n",
              "  <script>\n",
              "    async function quickchart(key) {\n",
              "      const quickchartButtonEl =\n",
              "        document.querySelector('#' + key + ' button');\n",
              "      quickchartButtonEl.disabled = true;  // To prevent multiple clicks.\n",
              "      quickchartButtonEl.classList.add('colab-df-spinner');\n",
              "      try {\n",
              "        const charts = await google.colab.kernel.invokeFunction(\n",
              "            'suggestCharts', [key], {});\n",
              "      } catch (error) {\n",
              "        console.error('Error during call to suggestCharts:', error);\n",
              "      }\n",
              "      quickchartButtonEl.classList.remove('colab-df-spinner');\n",
              "      quickchartButtonEl.classList.add('colab-df-quickchart-complete');\n",
              "    }\n",
              "    (() => {\n",
              "      let quickchartButtonEl =\n",
              "        document.querySelector('#df-78750f62-8f69-47ae-839e-cd3dac5f3ade button');\n",
              "      quickchartButtonEl.style.display =\n",
              "        google.colab.kernel.accessAllowed ? 'block' : 'none';\n",
              "    })();\n",
              "  </script>\n",
              "</div>\n",
              "\n",
              "  <div id=\"id_1b7917e9-2f94-44af-9119-ef9f84447cf8\">\n",
              "    <style>\n",
              "      .colab-df-generate {\n",
              "        background-color: #E8F0FE;\n",
              "        border: none;\n",
              "        border-radius: 50%;\n",
              "        cursor: pointer;\n",
              "        display: none;\n",
              "        fill: #1967D2;\n",
              "        height: 32px;\n",
              "        padding: 0 0 0 0;\n",
              "        width: 32px;\n",
              "      }\n",
              "\n",
              "      .colab-df-generate:hover {\n",
              "        background-color: #E2EBFA;\n",
              "        box-shadow: 0px 1px 2px rgba(60, 64, 67, 0.3), 0px 1px 3px 1px rgba(60, 64, 67, 0.15);\n",
              "        fill: #174EA6;\n",
              "      }\n",
              "\n",
              "      [theme=dark] .colab-df-generate {\n",
              "        background-color: #3B4455;\n",
              "        fill: #D2E3FC;\n",
              "      }\n",
              "\n",
              "      [theme=dark] .colab-df-generate:hover {\n",
              "        background-color: #434B5C;\n",
              "        box-shadow: 0px 1px 3px 1px rgba(0, 0, 0, 0.15);\n",
              "        filter: drop-shadow(0px 1px 2px rgba(0, 0, 0, 0.3));\n",
              "        fill: #FFFFFF;\n",
              "      }\n",
              "    </style>\n",
              "    <button class=\"colab-df-generate\" onclick=\"generateWithVariable('sample_submission')\"\n",
              "            title=\"Generate code using this dataframe.\"\n",
              "            style=\"display:none;\">\n",
              "\n",
              "  <svg xmlns=\"http://www.w3.org/2000/svg\" height=\"24px\"viewBox=\"0 0 24 24\"\n",
              "       width=\"24px\">\n",
              "    <path d=\"M7,19H8.4L18.45,9,17,7.55,7,17.6ZM5,21V16.75L18.45,3.32a2,2,0,0,1,2.83,0l1.4,1.43a1.91,1.91,0,0,1,.58,1.4,1.91,1.91,0,0,1-.58,1.4L9.25,21ZM18.45,9,17,7.55Zm-12,3A5.31,5.31,0,0,0,4.9,8.1,5.31,5.31,0,0,0,1,6.5,5.31,5.31,0,0,0,4.9,4.9,5.31,5.31,0,0,0,6.5,1,5.31,5.31,0,0,0,8.1,4.9,5.31,5.31,0,0,0,12,6.5,5.46,5.46,0,0,0,6.5,12Z\"/>\n",
              "  </svg>\n",
              "    </button>\n",
              "    <script>\n",
              "      (() => {\n",
              "      const buttonEl =\n",
              "        document.querySelector('#id_1b7917e9-2f94-44af-9119-ef9f84447cf8 button.colab-df-generate');\n",
              "      buttonEl.style.display =\n",
              "        google.colab.kernel.accessAllowed ? 'block' : 'none';\n",
              "\n",
              "      buttonEl.onclick = () => {\n",
              "        google.colab.notebook.generateWithVariable('sample_submission');\n",
              "      }\n",
              "      })();\n",
              "    </script>\n",
              "  </div>\n",
              "\n",
              "    </div>\n",
              "  </div>\n"
            ],
            "application/vnd.google.colaboratory.intrinsic+json": {
              "type": "dataframe",
              "variable_name": "sample_submission",
              "summary": "{\n  \"name\": \"sample_submission\",\n  \"rows\": 846,\n  \"fields\": [\n    {\n      \"column\": \"ID\",\n      \"properties\": {\n        \"dtype\": \"string\",\n        \"num_unique_values\": 846,\n        \"samples\": [\n          \"TEST_039\",\n          \"TEST_250\",\n          \"TEST_314\"\n        ],\n        \"semantic_type\": \"\",\n        \"description\": \"\"\n      }\n    },\n    {\n      \"column\": \"\\uac00\\uaca9(\\ubc31\\ub9cc\\uc6d0)\",\n      \"properties\": {\n        \"dtype\": \"number\",\n        \"std\": 36.469233443300524,\n        \"min\": 15.98153547001062,\n        \"max\": 160.34369146185722,\n        \"num_unique_values\": 830,\n        \"samples\": [\n          37.74961558468367,\n          54.52429548511995,\n          73.92729882776214\n        ],\n        \"semantic_type\": \"\",\n        \"description\": \"\"\n      }\n    }\n  ]\n}"
            }
          },
          "metadata": {},
          "execution_count": 57
        }
      ]
    },
    {
      "cell_type": "code",
      "source": [],
      "metadata": {
        "id": "zsCjSp1XsIKA"
      },
      "execution_count": 57,
      "outputs": []
    }
  ]
}